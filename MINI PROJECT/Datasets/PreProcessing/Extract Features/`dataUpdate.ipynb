{
 "cells": [
  {
   "cell_type": "code",
   "execution_count": 2,
   "metadata": {},
   "outputs": [],
   "source": [
    "import pandas as pd\n",
    "import re\n",
    "from urllib.parse import urlparse"
   ]
  },
  {
   "cell_type": "code",
   "execution_count": 2,
   "metadata": {},
   "outputs": [],
   "source": [
    "df = pd.read_csv(\"C:/Users/tnish/Downloads/MINI PROJECT/Datasets/duplicate.csv\")"
   ]
  },
  {
   "cell_type": "code",
   "execution_count": 3,
   "metadata": {},
   "outputs": [
    {
     "data": {
      "text/plain": [
       "Index(['final_url', 'type', 'url_len', '@', '?', '-', '=', '.', '#', '%', '+',\n",
       "       '$', '!', '*', ',', '//', 'domain', 'shortening_service',\n",
       "       'contains_ip_address', 'numeric in url', 'domain_in_sub_domain',\n",
       "       'domain_in_path', 'https_in_domain', 'hostname_length', 'path_length',\n",
       "       'query_length', 'is_legitimate', 'request_url_feature',\n",
       "       'anchor_url_feature', 'meta_script_link_feature', 'sfh_feature',\n",
       "       'domain_check', 'umap_values1', 'umap_values2'],\n",
       "      dtype='object')"
      ]
     },
     "execution_count": 3,
     "metadata": {},
     "output_type": "execute_result"
    }
   ],
   "source": [
    "df.columns"
   ]
  },
  {
   "cell_type": "code",
   "execution_count": 4,
   "metadata": {},
   "outputs": [],
   "source": [
    "df = df.drop([\"numeric in url\", \"domain_in_path\",\"domain_in_sub_domain\"],axis=1)"
   ]
  },
  {
   "cell_type": "code",
   "execution_count": 5,
   "metadata": {},
   "outputs": [
    {
     "data": {
      "text/plain": [
       "Index(['final_url', 'type', 'url_len', '@', '?', '-', '=', '.', '#', '%', '+',\n",
       "       '$', '!', '*', ',', '//', 'domain', 'shortening_service',\n",
       "       'contains_ip_address', 'https_in_domain', 'hostname_length',\n",
       "       'path_length', 'query_length', 'is_legitimate', 'request_url_feature',\n",
       "       'anchor_url_feature', 'meta_script_link_feature', 'sfh_feature',\n",
       "       'domain_check', 'umap_values1', 'umap_values2'],\n",
       "      dtype='object')"
      ]
     },
     "execution_count": 5,
     "metadata": {},
     "output_type": "execute_result"
    }
   ],
   "source": [
    "df.columns"
   ]
  },
  {
   "cell_type": "code",
   "execution_count": 6,
   "metadata": {},
   "outputs": [],
   "source": [
    "def count_numeric_chars(url):\n",
    "        pattern = r'\\d'\n",
    "        return len(re.findall(pattern, url))"
   ]
  },
  {
   "cell_type": "code",
   "execution_count": 7,
   "metadata": {},
   "outputs": [],
   "source": [
    "df['numeric in url'] = df['final_url'].apply(count_numeric_chars)"
   ]
  },
  {
   "cell_type": "code",
   "execution_count": 8,
   "metadata": {},
   "outputs": [],
   "source": [
    "def has_domains_in_subdomain(url):\n",
    "    pattern = r'[a-zA-Z0-9-]+\\.[a-zA-Z]{2,}'\n",
    "    subdomain = urlparse(url).hostname.split('.')[0]\n",
    "    domains = re.findall(pattern, subdomain)\n",
    "    return int(len(domains) > 0)"
   ]
  },
  {
   "cell_type": "code",
   "execution_count": 9,
   "metadata": {},
   "outputs": [],
   "source": [
    "df['domain_in_sub_domain'] = df['final_url'].apply(has_domains_in_subdomain)"
   ]
  },
  {
   "cell_type": "code",
   "execution_count": 10,
   "metadata": {},
   "outputs": [],
   "source": [
    "def has_domains_in_path(url):\n",
    "    pattern = r'[a-zA-Z0-9-]+\\.[a-zA-Z]{2,}'\n",
    "    path = urlparse(url).path\n",
    "    domains = re.findall(pattern, path)\n",
    "    return int(len(domains) > 0)"
   ]
  },
  {
   "cell_type": "code",
   "execution_count": 11,
   "metadata": {},
   "outputs": [],
   "source": [
    "df['domain_in_path'] = df['final_url'].apply(has_domains_in_path)"
   ]
  },
  {
   "cell_type": "code",
   "execution_count": 12,
   "metadata": {},
   "outputs": [
    {
     "data": {
      "text/plain": [
       "Index(['final_url', 'type', 'url_len', '@', '?', '-', '=', '.', '#', '%', '+',\n",
       "       '$', '!', '*', ',', '//', 'domain', 'shortening_service',\n",
       "       'contains_ip_address', 'https_in_domain', 'hostname_length',\n",
       "       'path_length', 'query_length', 'is_legitimate', 'request_url_feature',\n",
       "       'anchor_url_feature', 'meta_script_link_feature', 'sfh_feature',\n",
       "       'domain_check', 'umap_values1', 'umap_values2', 'numeric in url',\n",
       "       'domain_in_sub_domain', 'domain_in_path'],\n",
       "      dtype='object')"
      ]
     },
     "execution_count": 12,
     "metadata": {},
     "output_type": "execute_result"
    }
   ],
   "source": [
    "df.columns"
   ]
  },
  {
   "cell_type": "code",
   "execution_count": 13,
   "metadata": {},
   "outputs": [],
   "source": [
    "df['request_url_feature'] = df['request_url_feature'].replace(2,1)"
   ]
  },
  {
   "cell_type": "code",
   "execution_count": 14,
   "metadata": {},
   "outputs": [],
   "source": [
    "df['anchor_url_feature'] = df['anchor_url_feature'].replace(2,1)"
   ]
  },
  {
   "cell_type": "code",
   "execution_count": 15,
   "metadata": {},
   "outputs": [],
   "source": [
    "df['meta_script_link_feature'] = df['meta_script_link_feature'].replace(2,1)\n",
    "df['sfh_feature'] = df['sfh_feature'].replace(2,1)\n",
    "df['domain_check'] = df['domain_check'].replace(2,1)"
   ]
  },
  {
   "cell_type": "code",
   "execution_count": 16,
   "metadata": {},
   "outputs": [
    {
     "data": {
      "text/plain": [
       "-22.450544"
      ]
     },
     "execution_count": 16,
     "metadata": {},
     "output_type": "execute_result"
    }
   ],
   "source": [
    "df['umap_values1'].min()"
   ]
  },
  {
   "cell_type": "code",
   "execution_count": 36,
   "metadata": {},
   "outputs": [
    {
     "data": {
      "text/plain": [
       "Index(['final_url', 'type', 'url_len', '@', '?', '-', '=', '.', '#', '%', '+',\n",
       "       '$', '!', '*', ',', '//', 'domain', 'shortening_service',\n",
       "       'contains_ip_address', 'https_in_domain', 'hostname_length',\n",
       "       'path_length', 'query_length', 'is_legitimate', 'request_url_feature',\n",
       "       'anchor_url_feature', 'meta_script_link_feature', 'sfh_feature',\n",
       "       'domain_check', 'umap_values1', 'umap_values2', 'numeric in url',\n",
       "       'domain_in_sub_domain', 'domain_in_path'],\n",
       "      dtype='object')"
      ]
     },
     "execution_count": 36,
     "metadata": {},
     "output_type": "execute_result"
    }
   ],
   "source": [
    "df.columns"
   ]
  },
  {
   "cell_type": "code",
   "execution_count": 17,
   "metadata": {},
   "outputs": [],
   "source": [
    "from sklearn.preprocessing import MinMaxScaler\n",
    "\n",
    "scaler = MinMaxScaler(feature_range=(-1, 1))\n",
    "\n",
    "# select the column to be normalized\n",
    "column_to_normalize = df['umap_values1'].values.reshape(-1, 1)\n",
    "\n",
    "# fit and transform the selected column to the range -1 to 1\n",
    "normalized_column = scaler.fit_transform(column_to_normalize)\n",
    "\n",
    "# replace the column in the original data with the normalized column\n",
    "df['umap_values1'] = normalized_column.ravel()\n"
   ]
  },
  {
   "cell_type": "code",
   "execution_count": 18,
   "metadata": {},
   "outputs": [],
   "source": [
    "from sklearn.preprocessing import MinMaxScaler\n",
    "\n",
    "scaler = MinMaxScaler(feature_range=(-1, 1))\n",
    "\n",
    "# select the column to be normalized\n",
    "column_to_normalize = df['umap_values2'].values.reshape(-1, 1)\n",
    "\n",
    "# fit and transform the selected column to the range -1 to 1\n",
    "normalized_column = scaler.fit_transform(column_to_normalize)\n",
    "\n",
    "# replace the column in the original data with the normalized column\n",
    "df['umap_values2'] = normalized_column.ravel()\n"
   ]
  },
  {
   "cell_type": "code",
   "execution_count": 19,
   "metadata": {},
   "outputs": [],
   "source": [
    "scaler = MinMaxScaler()\n",
    "\n",
    "# select the column to be normalized\n",
    "column_to_normalize = df['numeric in url'].values.reshape(-1, 1)\n",
    "\n",
    "# fit and transform the selected column to the range 0-1\n",
    "normalized_column = scaler.fit_transform(column_to_normalize)\n",
    "\n",
    "# replace the column in the original data with the normalized column\n",
    "df['numeric in url'] = normalized_column.ravel()"
   ]
  },
  {
   "cell_type": "code",
   "execution_count": 20,
   "metadata": {},
   "outputs": [],
   "source": [
    "scaler = MinMaxScaler()\n",
    "\n",
    "# select the column to be normalized\n",
    "column_to_normalize = df['@'].values.reshape(-1, 1)\n",
    "\n",
    "# fit and transform the selected column to the range 0-1\n",
    "normalized_column = scaler.fit_transform(column_to_normalize)\n",
    "\n",
    "# replace the column in the original data with the normalized column\n",
    "df['@'] = normalized_column.ravel()"
   ]
  },
  {
   "cell_type": "code",
   "execution_count": 21,
   "metadata": {},
   "outputs": [],
   "source": [
    "scaler = MinMaxScaler()\n",
    "\n",
    "# select the column to be normalized\n",
    "column_to_normalize = df['?'].values.reshape(-1, 1)\n",
    "\n",
    "# fit and transform the selected column to the range 0-1\n",
    "normalized_column = scaler.fit_transform(column_to_normalize)\n",
    "\n",
    "# replace the column in the original data with the normalized column\n",
    "df['?'] = normalized_column.ravel()"
   ]
  },
  {
   "cell_type": "code",
   "execution_count": 22,
   "metadata": {},
   "outputs": [],
   "source": [
    "scaler = MinMaxScaler()\n",
    "\n",
    "# select the column to be normalized\n",
    "column_to_normalize = df['-'].values.reshape(-1, 1)\n",
    "\n",
    "# fit and transform the selected column to the range 0-1\n",
    "normalized_column = scaler.fit_transform(column_to_normalize)\n",
    "\n",
    "# replace the column in the original data with the normalized column\n",
    "df['-'] = normalized_column.ravel()"
   ]
  },
  {
   "cell_type": "code",
   "execution_count": 23,
   "metadata": {},
   "outputs": [],
   "source": [
    "scaler = MinMaxScaler()\n",
    "\n",
    "# select the column to be normalized\n",
    "column_to_normalize = df['='].values.reshape(-1, 1)\n",
    "\n",
    "# fit and transform the selected column to the range 0-1\n",
    "normalized_column = scaler.fit_transform(column_to_normalize)\n",
    "\n",
    "# replace the column in the original data with the normalized column\n",
    "df['='] = normalized_column.ravel()"
   ]
  },
  {
   "cell_type": "code",
   "execution_count": 24,
   "metadata": {},
   "outputs": [],
   "source": [
    "scaler = MinMaxScaler()\n",
    "\n",
    "# select the column to be normalized\n",
    "column_to_normalize = df['.'].values.reshape(-1, 1)\n",
    "\n",
    "# fit and transform the selected column to the range 0-1\n",
    "normalized_column = scaler.fit_transform(column_to_normalize)\n",
    "\n",
    "# replace the column in the original data with the normalized column\n",
    "df['.'] = normalized_column.ravel()"
   ]
  },
  {
   "cell_type": "code",
   "execution_count": 25,
   "metadata": {},
   "outputs": [],
   "source": [
    "scaler = MinMaxScaler()\n",
    "\n",
    "# select the column to be normalized\n",
    "column_to_normalize = df['%'].values.reshape(-1, 1)\n",
    "\n",
    "# fit and transform the selected column to the range 0-1\n",
    "normalized_column = scaler.fit_transform(column_to_normalize)\n",
    "\n",
    "# replace the column in the original data with the normalized column\n",
    "df['%'] = normalized_column.ravel()"
   ]
  },
  {
   "cell_type": "code",
   "execution_count": 26,
   "metadata": {},
   "outputs": [],
   "source": [
    "scaler = MinMaxScaler()\n",
    "\n",
    "# select the column to be normalized\n",
    "column_to_normalize = df['#'].values.reshape(-1, 1)\n",
    "\n",
    "# fit and transform the selected column to the range 0-1\n",
    "normalized_column = scaler.fit_transform(column_to_normalize)\n",
    "\n",
    "# replace the column in the original data with the normalized column\n",
    "df['#'] = normalized_column.ravel()"
   ]
  },
  {
   "cell_type": "code",
   "execution_count": 27,
   "metadata": {},
   "outputs": [],
   "source": [
    "scaler = MinMaxScaler()\n",
    "\n",
    "# select the column to be normalized\n",
    "column_to_normalize = df['+'].values.reshape(-1, 1)\n",
    "\n",
    "# fit and transform the selected column to the range 0-1\n",
    "normalized_column = scaler.fit_transform(column_to_normalize)\n",
    "\n",
    "# replace the column in the original data with the normalized column\n",
    "df['+'] = normalized_column.ravel()"
   ]
  },
  {
   "cell_type": "code",
   "execution_count": 28,
   "metadata": {},
   "outputs": [],
   "source": [
    "scaler = MinMaxScaler()\n",
    "\n",
    "# select the column to be normalized\n",
    "column_to_normalize = df['$'].values.reshape(-1, 1)\n",
    "\n",
    "# fit and transform the selected column to the range 0-1\n",
    "normalized_column = scaler.fit_transform(column_to_normalize)\n",
    "\n",
    "# replace the column in the original data with the normalized column\n",
    "df['$'] = normalized_column.ravel()"
   ]
  },
  {
   "cell_type": "code",
   "execution_count": 29,
   "metadata": {},
   "outputs": [],
   "source": [
    "scaler = MinMaxScaler()\n",
    "\n",
    "# select the column to be normalized\n",
    "column_to_normalize = df['!'].values.reshape(-1, 1)\n",
    "\n",
    "# fit and transform the selected column to the range 0-1\n",
    "normalized_column = scaler.fit_transform(column_to_normalize)\n",
    "\n",
    "# replace the column in the original data with the normalized column\n",
    "df['!'] = normalized_column.ravel()"
   ]
  },
  {
   "cell_type": "code",
   "execution_count": 30,
   "metadata": {},
   "outputs": [],
   "source": [
    "scaler = MinMaxScaler()\n",
    "\n",
    "# select the column to be normalized\n",
    "column_to_normalize = df['*'].values.reshape(-1, 1)\n",
    "\n",
    "# fit and transform the selected column to the range 0-1\n",
    "normalized_column = scaler.fit_transform(column_to_normalize)\n",
    "\n",
    "# replace the column in the original data with the normalized column\n",
    "df['*'] = normalized_column.ravel()"
   ]
  },
  {
   "cell_type": "code",
   "execution_count": 31,
   "metadata": {},
   "outputs": [],
   "source": [
    "scaler = MinMaxScaler()\n",
    "\n",
    "# select the column to be normalized\n",
    "column_to_normalize = df[','].values.reshape(-1, 1)\n",
    "\n",
    "# fit and transform the selected column to the range 0-1\n",
    "normalized_column = scaler.fit_transform(column_to_normalize)\n",
    "\n",
    "# replace the column in the original data with the normalized column\n",
    "df[','] = normalized_column.ravel()"
   ]
  },
  {
   "cell_type": "code",
   "execution_count": 32,
   "metadata": {},
   "outputs": [],
   "source": [
    "scaler = MinMaxScaler()\n",
    "\n",
    "# select the column to be normalized\n",
    "column_to_normalize = df['//'].values.reshape(-1, 1)\n",
    "\n",
    "# fit and transform the selected column to the range 0-1\n",
    "normalized_column = scaler.fit_transform(column_to_normalize)\n",
    "\n",
    "# replace the column in the original data with the normalized column\n",
    "df['//'] = normalized_column.ravel()"
   ]
  },
  {
   "cell_type": "code",
   "execution_count": 38,
   "metadata": {},
   "outputs": [
    {
     "ename": "MemoryError",
     "evalue": "Unable to allocate 2.48 TiB for an array with shape (621739, 549179) and data type int64",
     "output_type": "error",
     "traceback": [
      "\u001b[1;31m---------------------------------------------------------------------------\u001b[0m",
      "\u001b[1;31mMemoryError\u001b[0m                               Traceback (most recent call last)",
      "Cell \u001b[1;32mIn[38], line 17\u001b[0m\n\u001b[0;32m     14\u001b[0m count_matrix \u001b[39m=\u001b[39m count_vectorizer\u001b[39m.\u001b[39mfit_transform(corpus)\n\u001b[0;32m     16\u001b[0m \u001b[39m# print the resulting count matrix\u001b[39;00m\n\u001b[1;32m---> 17\u001b[0m \u001b[39mprint\u001b[39m(count_matrix\u001b[39m.\u001b[39;49mtoarray())\n\u001b[0;32m     19\u001b[0m \u001b[39m# create a TfidfVectorizer object to tokenize the corpus\u001b[39;00m\n\u001b[0;32m     20\u001b[0m tfidf_vectorizer \u001b[39m=\u001b[39m TfidfVectorizer()\n",
      "File \u001b[1;32m~\\AppData\\Local\\Packages\\PythonSoftwareFoundation.Python.3.11_qbz5n2kfra8p0\\LocalCache\\local-packages\\Python311\\site-packages\\scipy\\sparse\\_compressed.py:1051\u001b[0m, in \u001b[0;36m_cs_matrix.toarray\u001b[1;34m(self, order, out)\u001b[0m\n\u001b[0;32m   1049\u001b[0m \u001b[39mif\u001b[39;00m out \u001b[39mis\u001b[39;00m \u001b[39mNone\u001b[39;00m \u001b[39mand\u001b[39;00m order \u001b[39mis\u001b[39;00m \u001b[39mNone\u001b[39;00m:\n\u001b[0;32m   1050\u001b[0m     order \u001b[39m=\u001b[39m \u001b[39mself\u001b[39m\u001b[39m.\u001b[39m_swap(\u001b[39m'\u001b[39m\u001b[39mcf\u001b[39m\u001b[39m'\u001b[39m)[\u001b[39m0\u001b[39m]\n\u001b[1;32m-> 1051\u001b[0m out \u001b[39m=\u001b[39m \u001b[39mself\u001b[39;49m\u001b[39m.\u001b[39;49m_process_toarray_args(order, out)\n\u001b[0;32m   1052\u001b[0m \u001b[39mif\u001b[39;00m \u001b[39mnot\u001b[39;00m (out\u001b[39m.\u001b[39mflags\u001b[39m.\u001b[39mc_contiguous \u001b[39mor\u001b[39;00m out\u001b[39m.\u001b[39mflags\u001b[39m.\u001b[39mf_contiguous):\n\u001b[0;32m   1053\u001b[0m     \u001b[39mraise\u001b[39;00m \u001b[39mValueError\u001b[39;00m(\u001b[39m'\u001b[39m\u001b[39mOutput array must be C or F contiguous\u001b[39m\u001b[39m'\u001b[39m)\n",
      "File \u001b[1;32m~\\AppData\\Local\\Packages\\PythonSoftwareFoundation.Python.3.11_qbz5n2kfra8p0\\LocalCache\\local-packages\\Python311\\site-packages\\scipy\\sparse\\_base.py:1298\u001b[0m, in \u001b[0;36mspmatrix._process_toarray_args\u001b[1;34m(self, order, out)\u001b[0m\n\u001b[0;32m   1296\u001b[0m     \u001b[39mreturn\u001b[39;00m out\n\u001b[0;32m   1297\u001b[0m \u001b[39melse\u001b[39;00m:\n\u001b[1;32m-> 1298\u001b[0m     \u001b[39mreturn\u001b[39;00m np\u001b[39m.\u001b[39;49mzeros(\u001b[39mself\u001b[39;49m\u001b[39m.\u001b[39;49mshape, dtype\u001b[39m=\u001b[39;49m\u001b[39mself\u001b[39;49m\u001b[39m.\u001b[39;49mdtype, order\u001b[39m=\u001b[39;49morder)\n",
      "\u001b[1;31mMemoryError\u001b[0m: Unable to allocate 2.48 TiB for an array with shape (621739, 549179) and data type int64"
     ]
    }
   ],
   "source": [
    "from sklearn.ensemble import RandomForestClassifier\n",
    "from sklearn.feature_extraction.text import CountVectorizer\n",
    "from sklearn.feature_extraction.text import TfidfVectorizer\n",
    "from sklearn.model_selection import train_test_split\n",
    "import numpy as np\n",
    "\n",
    "# define the corpus\n",
    "corpus = df['final_url']\n",
    "\n",
    "# create a CountVectorizer object to tokenize the corpus\n",
    "count_vectorizer = CountVectorizer()\n",
    "\n",
    "# fit and transform the corpus to create a count matrix\n",
    "count_matrix = count_vectorizer.fit_transform(corpus)\n",
    "\n",
    "# print the resulting count matrix\n",
    "print(count_matrix.toarray())\n",
    "\n",
    "# create a TfidfVectorizer object to tokenize the corpus\n",
    "tfidf_vectorizer = TfidfVectorizer()\n",
    "\n",
    "# fit and transform the corpus to create a tf-idf matrix\n",
    "tfidf_matrix = tfidf_vectorizer.fit_transform(corpus)\n",
    "\n",
    "# X = np.concatenate([tfidf_matrix.toarray(), df[['url_len', 'shortening_service', 'contains_ip_address', 'https_in_domain', 'hostname_length', 'path_length', 'query_length', 'request_url_feature', 'anchor_url_feature', 'meta_script_link_feature', 'sfh_feature', 'domain_check', 'umap_values1', 'umap_values2', 'numeric in url', 'domain_in_sub_domain', 'domain_in_path']].values], axis=1)\n",
    "y = df['type']\n",
    "X = tfidf_matrix\n",
    "# Split the data into training and testing sets\n",
    "X_train, X_test, y_train, y_test = train_test_split(X, y, test_size=0.2)\n",
    "\n",
    "# Define the random forest classifier model\n",
    "model = RandomForestClassifier(n_estimators=100)\n",
    "\n",
    "# Train the random forest classifier model on the training data\n",
    "model.fit(X_train, y_train)\n",
    "\n",
    "# Evaluate the model on the testing data\n",
    "accuracy = model.score(X_test, y_test)\n",
    "print(\"Accuracy:\", accuracy)"
   ]
  },
  {
   "cell_type": "code",
   "execution_count": null,
   "metadata": {},
   "outputs": [
    {
     "data": {
      "text/plain": [
       "final_url                    object\n",
       "type                          int64\n",
       "url_len                     float64\n",
       "@                           float64\n",
       "?                           float64\n",
       "-                           float64\n",
       "=                           float64\n",
       ".                           float64\n",
       "#                           float64\n",
       "%                           float64\n",
       "+                           float64\n",
       "$                           float64\n",
       "!                           float64\n",
       "*                           float64\n",
       ",                           float64\n",
       "//                          float64\n",
       "domain                       object\n",
       "shortening_service            int64\n",
       "contains_ip_address           int64\n",
       "https_in_domain               int64\n",
       "hostname_length             float64\n",
       "path_length                 float64\n",
       "query_length                float64\n",
       "is_legitimate                 int64\n",
       "request_url_feature           int64\n",
       "anchor_url_feature            int64\n",
       "meta_script_link_feature      int64\n",
       "sfh_feature                   int64\n",
       "domain_check                  int64\n",
       "umap_values1                float64\n",
       "umap_values2                float64\n",
       "numeric in url              float64\n",
       "domain_in_sub_domain          int64\n",
       "domain_in_path                int64\n",
       "dtype: object"
      ]
     },
     "execution_count": 231,
     "metadata": {},
     "output_type": "execute_result"
    }
   ],
   "source": [
    "df.dtypes"
   ]
  },
  {
   "cell_type": "code",
   "execution_count": null,
   "metadata": {},
   "outputs": [],
   "source": [
    "x=df.drop(['type','final_url','domain','is_legitimate'],axis=1)\n",
    "y=df['type']"
   ]
  },
  {
   "cell_type": "code",
   "execution_count": null,
   "metadata": {},
   "outputs": [],
   "source": [
    "# x = x.drop(['request_url_feature','anchor_url_feature', 'meta_script_link_feature', 'sfh_feature'],axis=1)"
   ]
  },
  {
   "cell_type": "code",
   "execution_count": null,
   "metadata": {},
   "outputs": [],
   "source": [
    "from sklearn.utils import shuffle\n",
    "\n",
    "\n",
    "df = shuffle(df)\n",
    "df = shuffle(df)"
   ]
  },
  {
   "cell_type": "code",
   "execution_count": null,
   "metadata": {},
   "outputs": [
    {
     "data": {
      "text/plain": [
       "Index(['url_len', '@', '?', '-', '=', '.', '#', '%', '+', '$', '!', '*', ',',\n",
       "       '//', 'shortening_service', 'contains_ip_address', 'https_in_domain',\n",
       "       'hostname_length', 'path_length', 'query_length', 'domain_check',\n",
       "       'umap_values1', 'umap_values2', 'numeric in url',\n",
       "       'domain_in_sub_domain', 'domain_in_path'],\n",
       "      dtype='object')"
      ]
     },
     "execution_count": 235,
     "metadata": {},
     "output_type": "execute_result"
    }
   ],
   "source": [
    "x.columns"
   ]
  },
  {
   "cell_type": "code",
   "execution_count": null,
   "metadata": {},
   "outputs": [],
   "source": [
    "from sklearn.ensemble import RandomForestClassifier\n",
    "from sklearn.metrics import accuracy_score\n",
    "from sklearn.model_selection import train_test_split\n",
    "\n",
    "# split the data into 80% training-validation and 20% testing\n",
    "X_train_val, X_test, y_train_val, y_test = train_test_split(x, y, test_size=0.7, random_state=42)\n",
    "\n",
    "# split the remaining 20% into 10% validation and 10% testing\n",
    "X_val, X_test, y_val, y_test = train_test_split(X_test, y_test, test_size=0.5, random_state=42)\n",
    "\n",
    "# initialize the random forest classifier with 100 trees and random_state=42\n",
    "rf = RandomForestClassifier(n_estimators=100, random_state=42)\n",
    "\n",
    "# fit the model on the training-validation set\n",
    "rf.fit(X_train_val, y_train_val)\n",
    "\n",
    "# make predictions on the validation set\n",
    "y_pred_val = rf.predict(X_val)\n",
    "\n",
    "# calculate the accuracy of the model on the validation set\n",
    "accuracy_val = accuracy_score(y_val, y_pred_val)\n",
    "print(\"Validation accuracy:\", accuracy_val)\n",
    "\n",
    "# make predictions on the testing set\n",
    "y_pred_test = rf.predict(X_test)\n",
    "\n",
    "# calculate the accuracy of the model on the testing set\n",
    "accuracy_test = accuracy_score(y_test, y_pred_test)\n",
    "print(\"Testing accuracy:\", accuracy_test)\n",
    "\n",
    "# make predictions on the training-validation set\n",
    "y_pred_train_val = rf.predict(X_train_val)\n",
    "\n",
    "# calculate the accuracy of the model on the training-validation set\n",
    "accuracy_train_val = accuracy_score(y_train_val, y_pred_train_val)\n",
    "print(\"Training-validation accuracy:\", accuracy_train_val)\n"
   ]
  },
  {
   "cell_type": "code",
   "execution_count": null,
   "metadata": {},
   "outputs": [
    {
     "data": {
      "text/plain": [
       "url_len                 float64\n",
       "@                       float64\n",
       "?                       float64\n",
       "-                       float64\n",
       "=                       float64\n",
       ".                       float64\n",
       "#                       float64\n",
       "%                       float64\n",
       "+                       float64\n",
       "$                       float64\n",
       "!                       float64\n",
       "*                       float64\n",
       ",                       float64\n",
       "//                      float64\n",
       "shortening_service        int64\n",
       "contains_ip_address       int64\n",
       "https_in_domain           int64\n",
       "hostname_length         float64\n",
       "path_length             float64\n",
       "query_length            float64\n",
       "domain_check              int64\n",
       "umap_values1            float64\n",
       "umap_values2            float64\n",
       "numeric in url          float64\n",
       "domain_in_sub_domain      int64\n",
       "domain_in_path            int64\n",
       "dtype: object"
      ]
     },
     "execution_count": 237,
     "metadata": {},
     "output_type": "execute_result"
    }
   ],
   "source": [
    "x.dtypes"
   ]
  },
  {
   "cell_type": "code",
   "execution_count": null,
   "metadata": {},
   "outputs": [],
   "source": [
    "# x = x.drop(['https_in_domain'],axis=1)"
   ]
  },
  {
   "cell_type": "code",
   "execution_count": null,
   "metadata": {},
   "outputs": [
    {
     "name": "stdout",
     "output_type": "stream",
     "text": [
      "Validation accuracy: 0.9209959146910284\n",
      "Testing accuracy: 0.9220681742636258\n",
      "Training-validation accuracy: 0.9999931068869093\n"
     ]
    }
   ],
   "source": [
    "# from sklearn.ensemble import RandomForestClassifier\n",
    "# from sklearn.metrics import accuracy_score\n",
    "# from sklearn.model_selection import train_test_split\n",
    "\n",
    "# # split the data into 80% training-validation and 20% testing\n",
    "# X_train_val, X_test, y_train_val, y_test = train_test_split(x, y, test_size=0.3, random_state=42)\n",
    "\n",
    "# # split the remaining 20% into 10% validation and 10% testing\n",
    "# X_val, X_test, y_val, y_test = train_test_split(X_test, y_test, test_size=0.5, random_state=42)\n",
    "\n",
    "# # initialize the random forest classifier with 100 trees and random_state=42\n",
    "# rf = RandomForestClassifier(n_estimators=100, random_state=42)\n",
    "\n",
    "# # fit the model on the training-validation set\n",
    "# rf.fit(X_train_val, y_train_val)\n",
    "\n",
    "# # make predictions on the validation set\n",
    "# y_pred_val = rf.predict(X_val)\n",
    "\n",
    "# # calculate the accuracy of the model on the validation set\n",
    "# accuracy_val = accuracy_score(y_val, y_pred_val)\n",
    "# print(\"Validation accuracy:\", accuracy_val)\n",
    "\n",
    "# # make predictions on the testing set\n",
    "# y_pred_test = rf.predict(X_test)\n",
    "\n",
    "# # calculate the accuracy of the model on the testing set\n",
    "# accuracy_test = accuracy_score(y_test, y_pred_test)\n",
    "# print(\"Testing accuracy:\", accuracy_test)\n",
    "\n",
    "# # make predictions on the training-validation set\n",
    "# y_pred_train_val = rf.predict(X_train_val)\n",
    "\n",
    "# # calculate the accuracy of the model on the training-validation set\n",
    "# accuracy_train_val = accuracy_score(y_train_val, y_pred_train_val)\n",
    "# print(\"Training-validation accuracy:\", accuracy_train_val)\n"
   ]
  },
  {
   "cell_type": "code",
   "execution_count": null,
   "metadata": {},
   "outputs": [
    {
     "ename": "KeyboardInterrupt",
     "evalue": "",
     "output_type": "error",
     "traceback": [
      "\u001b[1;31m---------------------------------------------------------------------------\u001b[0m",
      "\u001b[1;31mKeyboardInterrupt\u001b[0m                         Traceback (most recent call last)",
      "Cell \u001b[1;32mIn[242], line 11\u001b[0m\n\u001b[0;32m      8\u001b[0m rfe \u001b[39m=\u001b[39m RFE(rfc, n_features_to_select\u001b[39m=\u001b[39m\u001b[39m10\u001b[39m)\n\u001b[0;32m     10\u001b[0m \u001b[39m# Fit the RFE object to your data\u001b[39;00m\n\u001b[1;32m---> 11\u001b[0m rfe\u001b[39m.\u001b[39;49mfit(x, y)\n\u001b[0;32m     13\u001b[0m \u001b[39m# Print the feature rankings\u001b[39;00m\n\u001b[0;32m     14\u001b[0m \u001b[39mprint\u001b[39m(rfe\u001b[39m.\u001b[39mranking_)\n",
      "File \u001b[1;32m~\\AppData\\Local\\Packages\\PythonSoftwareFoundation.Python.3.11_qbz5n2kfra8p0\\LocalCache\\local-packages\\Python311\\site-packages\\sklearn\\feature_selection\\_rfe.py:251\u001b[0m, in \u001b[0;36mRFE.fit\u001b[1;34m(self, X, y, **fit_params)\u001b[0m\n\u001b[0;32m    231\u001b[0m \u001b[39m\u001b[39m\u001b[39m\"\"\"Fit the RFE model and then the underlying estimator on the selected features.\u001b[39;00m\n\u001b[0;32m    232\u001b[0m \n\u001b[0;32m    233\u001b[0m \u001b[39mParameters\u001b[39;00m\n\u001b[1;32m   (...)\u001b[0m\n\u001b[0;32m    248\u001b[0m \u001b[39m    Fitted estimator.\u001b[39;00m\n\u001b[0;32m    249\u001b[0m \u001b[39m\"\"\"\u001b[39;00m\n\u001b[0;32m    250\u001b[0m \u001b[39mself\u001b[39m\u001b[39m.\u001b[39m_validate_params()\n\u001b[1;32m--> 251\u001b[0m \u001b[39mreturn\u001b[39;00m \u001b[39mself\u001b[39;49m\u001b[39m.\u001b[39;49m_fit(X, y, \u001b[39m*\u001b[39;49m\u001b[39m*\u001b[39;49mfit_params)\n",
      "File \u001b[1;32m~\\AppData\\Local\\Packages\\PythonSoftwareFoundation.Python.3.11_qbz5n2kfra8p0\\LocalCache\\local-packages\\Python311\\site-packages\\sklearn\\feature_selection\\_rfe.py:299\u001b[0m, in \u001b[0;36mRFE._fit\u001b[1;34m(self, X, y, step_score, **fit_params)\u001b[0m\n\u001b[0;32m    296\u001b[0m \u001b[39mif\u001b[39;00m \u001b[39mself\u001b[39m\u001b[39m.\u001b[39mverbose \u001b[39m>\u001b[39m \u001b[39m0\u001b[39m:\n\u001b[0;32m    297\u001b[0m     \u001b[39mprint\u001b[39m(\u001b[39m\"\u001b[39m\u001b[39mFitting estimator with \u001b[39m\u001b[39m%d\u001b[39;00m\u001b[39m features.\u001b[39m\u001b[39m\"\u001b[39m \u001b[39m%\u001b[39m np\u001b[39m.\u001b[39msum(support_))\n\u001b[1;32m--> 299\u001b[0m estimator\u001b[39m.\u001b[39;49mfit(X[:, features], y, \u001b[39m*\u001b[39;49m\u001b[39m*\u001b[39;49mfit_params)\n\u001b[0;32m    301\u001b[0m \u001b[39m# Get importance and rank them\u001b[39;00m\n\u001b[0;32m    302\u001b[0m importances \u001b[39m=\u001b[39m _get_feature_importances(\n\u001b[0;32m    303\u001b[0m     estimator,\n\u001b[0;32m    304\u001b[0m     \u001b[39mself\u001b[39m\u001b[39m.\u001b[39mimportance_getter,\n\u001b[0;32m    305\u001b[0m     transform_func\u001b[39m=\u001b[39m\u001b[39m\"\u001b[39m\u001b[39msquare\u001b[39m\u001b[39m\"\u001b[39m,\n\u001b[0;32m    306\u001b[0m )\n",
      "File \u001b[1;32m~\\AppData\\Local\\Packages\\PythonSoftwareFoundation.Python.3.11_qbz5n2kfra8p0\\LocalCache\\local-packages\\Python311\\site-packages\\sklearn\\ensemble\\_forest.py:473\u001b[0m, in \u001b[0;36mBaseForest.fit\u001b[1;34m(self, X, y, sample_weight)\u001b[0m\n\u001b[0;32m    462\u001b[0m trees \u001b[39m=\u001b[39m [\n\u001b[0;32m    463\u001b[0m     \u001b[39mself\u001b[39m\u001b[39m.\u001b[39m_make_estimator(append\u001b[39m=\u001b[39m\u001b[39mFalse\u001b[39;00m, random_state\u001b[39m=\u001b[39mrandom_state)\n\u001b[0;32m    464\u001b[0m     \u001b[39mfor\u001b[39;00m i \u001b[39min\u001b[39;00m \u001b[39mrange\u001b[39m(n_more_estimators)\n\u001b[0;32m    465\u001b[0m ]\n\u001b[0;32m    467\u001b[0m \u001b[39m# Parallel loop: we prefer the threading backend as the Cython code\u001b[39;00m\n\u001b[0;32m    468\u001b[0m \u001b[39m# for fitting the trees is internally releasing the Python GIL\u001b[39;00m\n\u001b[0;32m    469\u001b[0m \u001b[39m# making threading more efficient than multiprocessing in\u001b[39;00m\n\u001b[0;32m    470\u001b[0m \u001b[39m# that case. However, for joblib 0.12+ we respect any\u001b[39;00m\n\u001b[0;32m    471\u001b[0m \u001b[39m# parallel_backend contexts set at a higher level,\u001b[39;00m\n\u001b[0;32m    472\u001b[0m \u001b[39m# since correctness does not rely on using threads.\u001b[39;00m\n\u001b[1;32m--> 473\u001b[0m trees \u001b[39m=\u001b[39m Parallel(\n\u001b[0;32m    474\u001b[0m     n_jobs\u001b[39m=\u001b[39;49m\u001b[39mself\u001b[39;49m\u001b[39m.\u001b[39;49mn_jobs,\n\u001b[0;32m    475\u001b[0m     verbose\u001b[39m=\u001b[39;49m\u001b[39mself\u001b[39;49m\u001b[39m.\u001b[39;49mverbose,\n\u001b[0;32m    476\u001b[0m     prefer\u001b[39m=\u001b[39;49m\u001b[39m\"\u001b[39;49m\u001b[39mthreads\u001b[39;49m\u001b[39m\"\u001b[39;49m,\n\u001b[0;32m    477\u001b[0m )(\n\u001b[0;32m    478\u001b[0m     delayed(_parallel_build_trees)(\n\u001b[0;32m    479\u001b[0m         t,\n\u001b[0;32m    480\u001b[0m         \u001b[39mself\u001b[39;49m\u001b[39m.\u001b[39;49mbootstrap,\n\u001b[0;32m    481\u001b[0m         X,\n\u001b[0;32m    482\u001b[0m         y,\n\u001b[0;32m    483\u001b[0m         sample_weight,\n\u001b[0;32m    484\u001b[0m         i,\n\u001b[0;32m    485\u001b[0m         \u001b[39mlen\u001b[39;49m(trees),\n\u001b[0;32m    486\u001b[0m         verbose\u001b[39m=\u001b[39;49m\u001b[39mself\u001b[39;49m\u001b[39m.\u001b[39;49mverbose,\n\u001b[0;32m    487\u001b[0m         class_weight\u001b[39m=\u001b[39;49m\u001b[39mself\u001b[39;49m\u001b[39m.\u001b[39;49mclass_weight,\n\u001b[0;32m    488\u001b[0m         n_samples_bootstrap\u001b[39m=\u001b[39;49mn_samples_bootstrap,\n\u001b[0;32m    489\u001b[0m     )\n\u001b[0;32m    490\u001b[0m     \u001b[39mfor\u001b[39;49;00m i, t \u001b[39min\u001b[39;49;00m \u001b[39menumerate\u001b[39;49m(trees)\n\u001b[0;32m    491\u001b[0m )\n\u001b[0;32m    493\u001b[0m \u001b[39m# Collect newly grown trees\u001b[39;00m\n\u001b[0;32m    494\u001b[0m \u001b[39mself\u001b[39m\u001b[39m.\u001b[39mestimators_\u001b[39m.\u001b[39mextend(trees)\n",
      "File \u001b[1;32m~\\AppData\\Local\\Packages\\PythonSoftwareFoundation.Python.3.11_qbz5n2kfra8p0\\LocalCache\\local-packages\\Python311\\site-packages\\sklearn\\utils\\parallel.py:63\u001b[0m, in \u001b[0;36mParallel.__call__\u001b[1;34m(self, iterable)\u001b[0m\n\u001b[0;32m     58\u001b[0m config \u001b[39m=\u001b[39m get_config()\n\u001b[0;32m     59\u001b[0m iterable_with_config \u001b[39m=\u001b[39m (\n\u001b[0;32m     60\u001b[0m     (_with_config(delayed_func, config), args, kwargs)\n\u001b[0;32m     61\u001b[0m     \u001b[39mfor\u001b[39;00m delayed_func, args, kwargs \u001b[39min\u001b[39;00m iterable\n\u001b[0;32m     62\u001b[0m )\n\u001b[1;32m---> 63\u001b[0m \u001b[39mreturn\u001b[39;00m \u001b[39msuper\u001b[39;49m()\u001b[39m.\u001b[39;49m\u001b[39m__call__\u001b[39;49m(iterable_with_config)\n",
      "File \u001b[1;32m~\\AppData\\Local\\Packages\\PythonSoftwareFoundation.Python.3.11_qbz5n2kfra8p0\\LocalCache\\local-packages\\Python311\\site-packages\\joblib\\parallel.py:1088\u001b[0m, in \u001b[0;36mParallel.__call__\u001b[1;34m(self, iterable)\u001b[0m\n\u001b[0;32m   1085\u001b[0m \u001b[39mif\u001b[39;00m \u001b[39mself\u001b[39m\u001b[39m.\u001b[39mdispatch_one_batch(iterator):\n\u001b[0;32m   1086\u001b[0m     \u001b[39mself\u001b[39m\u001b[39m.\u001b[39m_iterating \u001b[39m=\u001b[39m \u001b[39mself\u001b[39m\u001b[39m.\u001b[39m_original_iterator \u001b[39mis\u001b[39;00m \u001b[39mnot\u001b[39;00m \u001b[39mNone\u001b[39;00m\n\u001b[1;32m-> 1088\u001b[0m \u001b[39mwhile\u001b[39;00m \u001b[39mself\u001b[39;49m\u001b[39m.\u001b[39;49mdispatch_one_batch(iterator):\n\u001b[0;32m   1089\u001b[0m     \u001b[39mpass\u001b[39;00m\n\u001b[0;32m   1091\u001b[0m \u001b[39mif\u001b[39;00m pre_dispatch \u001b[39m==\u001b[39m \u001b[39m\"\u001b[39m\u001b[39mall\u001b[39m\u001b[39m\"\u001b[39m \u001b[39mor\u001b[39;00m n_jobs \u001b[39m==\u001b[39m \u001b[39m1\u001b[39m:\n\u001b[0;32m   1092\u001b[0m     \u001b[39m# The iterable was consumed all at once by the above for loop.\u001b[39;00m\n\u001b[0;32m   1093\u001b[0m     \u001b[39m# No need to wait for async callbacks to trigger to\u001b[39;00m\n\u001b[0;32m   1094\u001b[0m     \u001b[39m# consumption.\u001b[39;00m\n",
      "File \u001b[1;32m~\\AppData\\Local\\Packages\\PythonSoftwareFoundation.Python.3.11_qbz5n2kfra8p0\\LocalCache\\local-packages\\Python311\\site-packages\\joblib\\parallel.py:901\u001b[0m, in \u001b[0;36mParallel.dispatch_one_batch\u001b[1;34m(self, iterator)\u001b[0m\n\u001b[0;32m    899\u001b[0m     \u001b[39mreturn\u001b[39;00m \u001b[39mFalse\u001b[39;00m\n\u001b[0;32m    900\u001b[0m \u001b[39melse\u001b[39;00m:\n\u001b[1;32m--> 901\u001b[0m     \u001b[39mself\u001b[39;49m\u001b[39m.\u001b[39;49m_dispatch(tasks)\n\u001b[0;32m    902\u001b[0m     \u001b[39mreturn\u001b[39;00m \u001b[39mTrue\u001b[39;00m\n",
      "File \u001b[1;32m~\\AppData\\Local\\Packages\\PythonSoftwareFoundation.Python.3.11_qbz5n2kfra8p0\\LocalCache\\local-packages\\Python311\\site-packages\\joblib\\parallel.py:819\u001b[0m, in \u001b[0;36mParallel._dispatch\u001b[1;34m(self, batch)\u001b[0m\n\u001b[0;32m    817\u001b[0m \u001b[39mwith\u001b[39;00m \u001b[39mself\u001b[39m\u001b[39m.\u001b[39m_lock:\n\u001b[0;32m    818\u001b[0m     job_idx \u001b[39m=\u001b[39m \u001b[39mlen\u001b[39m(\u001b[39mself\u001b[39m\u001b[39m.\u001b[39m_jobs)\n\u001b[1;32m--> 819\u001b[0m     job \u001b[39m=\u001b[39m \u001b[39mself\u001b[39;49m\u001b[39m.\u001b[39;49m_backend\u001b[39m.\u001b[39;49mapply_async(batch, callback\u001b[39m=\u001b[39;49mcb)\n\u001b[0;32m    820\u001b[0m     \u001b[39m# A job can complete so quickly than its callback is\u001b[39;00m\n\u001b[0;32m    821\u001b[0m     \u001b[39m# called before we get here, causing self._jobs to\u001b[39;00m\n\u001b[0;32m    822\u001b[0m     \u001b[39m# grow. To ensure correct results ordering, .insert is\u001b[39;00m\n\u001b[0;32m    823\u001b[0m     \u001b[39m# used (rather than .append) in the following line\u001b[39;00m\n\u001b[0;32m    824\u001b[0m     \u001b[39mself\u001b[39m\u001b[39m.\u001b[39m_jobs\u001b[39m.\u001b[39minsert(job_idx, job)\n",
      "File \u001b[1;32m~\\AppData\\Local\\Packages\\PythonSoftwareFoundation.Python.3.11_qbz5n2kfra8p0\\LocalCache\\local-packages\\Python311\\site-packages\\joblib\\_parallel_backends.py:208\u001b[0m, in \u001b[0;36mSequentialBackend.apply_async\u001b[1;34m(self, func, callback)\u001b[0m\n\u001b[0;32m    206\u001b[0m \u001b[39mdef\u001b[39;00m \u001b[39mapply_async\u001b[39m(\u001b[39mself\u001b[39m, func, callback\u001b[39m=\u001b[39m\u001b[39mNone\u001b[39;00m):\n\u001b[0;32m    207\u001b[0m \u001b[39m    \u001b[39m\u001b[39m\"\"\"Schedule a func to be run\"\"\"\u001b[39;00m\n\u001b[1;32m--> 208\u001b[0m     result \u001b[39m=\u001b[39m ImmediateResult(func)\n\u001b[0;32m    209\u001b[0m     \u001b[39mif\u001b[39;00m callback:\n\u001b[0;32m    210\u001b[0m         callback(result)\n",
      "File \u001b[1;32m~\\AppData\\Local\\Packages\\PythonSoftwareFoundation.Python.3.11_qbz5n2kfra8p0\\LocalCache\\local-packages\\Python311\\site-packages\\joblib\\_parallel_backends.py:597\u001b[0m, in \u001b[0;36mImmediateResult.__init__\u001b[1;34m(self, batch)\u001b[0m\n\u001b[0;32m    594\u001b[0m \u001b[39mdef\u001b[39;00m \u001b[39m__init__\u001b[39m(\u001b[39mself\u001b[39m, batch):\n\u001b[0;32m    595\u001b[0m     \u001b[39m# Don't delay the application, to avoid keeping the input\u001b[39;00m\n\u001b[0;32m    596\u001b[0m     \u001b[39m# arguments in memory\u001b[39;00m\n\u001b[1;32m--> 597\u001b[0m     \u001b[39mself\u001b[39m\u001b[39m.\u001b[39mresults \u001b[39m=\u001b[39m batch()\n",
      "File \u001b[1;32m~\\AppData\\Local\\Packages\\PythonSoftwareFoundation.Python.3.11_qbz5n2kfra8p0\\LocalCache\\local-packages\\Python311\\site-packages\\joblib\\parallel.py:288\u001b[0m, in \u001b[0;36mBatchedCalls.__call__\u001b[1;34m(self)\u001b[0m\n\u001b[0;32m    284\u001b[0m \u001b[39mdef\u001b[39;00m \u001b[39m__call__\u001b[39m(\u001b[39mself\u001b[39m):\n\u001b[0;32m    285\u001b[0m     \u001b[39m# Set the default nested backend to self._backend but do not set the\u001b[39;00m\n\u001b[0;32m    286\u001b[0m     \u001b[39m# change the default number of processes to -1\u001b[39;00m\n\u001b[0;32m    287\u001b[0m     \u001b[39mwith\u001b[39;00m parallel_backend(\u001b[39mself\u001b[39m\u001b[39m.\u001b[39m_backend, n_jobs\u001b[39m=\u001b[39m\u001b[39mself\u001b[39m\u001b[39m.\u001b[39m_n_jobs):\n\u001b[1;32m--> 288\u001b[0m         \u001b[39mreturn\u001b[39;00m [func(\u001b[39m*\u001b[39;49margs, \u001b[39m*\u001b[39;49m\u001b[39m*\u001b[39;49mkwargs)\n\u001b[0;32m    289\u001b[0m                 \u001b[39mfor\u001b[39;49;00m func, args, kwargs \u001b[39min\u001b[39;49;00m \u001b[39mself\u001b[39;49m\u001b[39m.\u001b[39;49mitems]\n",
      "File \u001b[1;32m~\\AppData\\Local\\Packages\\PythonSoftwareFoundation.Python.3.11_qbz5n2kfra8p0\\LocalCache\\local-packages\\Python311\\site-packages\\joblib\\parallel.py:288\u001b[0m, in \u001b[0;36m<listcomp>\u001b[1;34m(.0)\u001b[0m\n\u001b[0;32m    284\u001b[0m \u001b[39mdef\u001b[39;00m \u001b[39m__call__\u001b[39m(\u001b[39mself\u001b[39m):\n\u001b[0;32m    285\u001b[0m     \u001b[39m# Set the default nested backend to self._backend but do not set the\u001b[39;00m\n\u001b[0;32m    286\u001b[0m     \u001b[39m# change the default number of processes to -1\u001b[39;00m\n\u001b[0;32m    287\u001b[0m     \u001b[39mwith\u001b[39;00m parallel_backend(\u001b[39mself\u001b[39m\u001b[39m.\u001b[39m_backend, n_jobs\u001b[39m=\u001b[39m\u001b[39mself\u001b[39m\u001b[39m.\u001b[39m_n_jobs):\n\u001b[1;32m--> 288\u001b[0m         \u001b[39mreturn\u001b[39;00m [func(\u001b[39m*\u001b[39;49margs, \u001b[39m*\u001b[39;49m\u001b[39m*\u001b[39;49mkwargs)\n\u001b[0;32m    289\u001b[0m                 \u001b[39mfor\u001b[39;00m func, args, kwargs \u001b[39min\u001b[39;00m \u001b[39mself\u001b[39m\u001b[39m.\u001b[39mitems]\n",
      "File \u001b[1;32m~\\AppData\\Local\\Packages\\PythonSoftwareFoundation.Python.3.11_qbz5n2kfra8p0\\LocalCache\\local-packages\\Python311\\site-packages\\sklearn\\utils\\parallel.py:123\u001b[0m, in \u001b[0;36m_FuncWrapper.__call__\u001b[1;34m(self, *args, **kwargs)\u001b[0m\n\u001b[0;32m    121\u001b[0m     config \u001b[39m=\u001b[39m {}\n\u001b[0;32m    122\u001b[0m \u001b[39mwith\u001b[39;00m config_context(\u001b[39m*\u001b[39m\u001b[39m*\u001b[39mconfig):\n\u001b[1;32m--> 123\u001b[0m     \u001b[39mreturn\u001b[39;00m \u001b[39mself\u001b[39;49m\u001b[39m.\u001b[39;49mfunction(\u001b[39m*\u001b[39;49margs, \u001b[39m*\u001b[39;49m\u001b[39m*\u001b[39;49mkwargs)\n",
      "File \u001b[1;32m~\\AppData\\Local\\Packages\\PythonSoftwareFoundation.Python.3.11_qbz5n2kfra8p0\\LocalCache\\local-packages\\Python311\\site-packages\\sklearn\\ensemble\\_forest.py:184\u001b[0m, in \u001b[0;36m_parallel_build_trees\u001b[1;34m(tree, bootstrap, X, y, sample_weight, tree_idx, n_trees, verbose, class_weight, n_samples_bootstrap)\u001b[0m\n\u001b[0;32m    181\u001b[0m     \u001b[39melif\u001b[39;00m class_weight \u001b[39m==\u001b[39m \u001b[39m\"\u001b[39m\u001b[39mbalanced_subsample\u001b[39m\u001b[39m\"\u001b[39m:\n\u001b[0;32m    182\u001b[0m         curr_sample_weight \u001b[39m*\u001b[39m\u001b[39m=\u001b[39m compute_sample_weight(\u001b[39m\"\u001b[39m\u001b[39mbalanced\u001b[39m\u001b[39m\"\u001b[39m, y, indices\u001b[39m=\u001b[39mindices)\n\u001b[1;32m--> 184\u001b[0m     tree\u001b[39m.\u001b[39;49mfit(X, y, sample_weight\u001b[39m=\u001b[39;49mcurr_sample_weight, check_input\u001b[39m=\u001b[39;49m\u001b[39mFalse\u001b[39;49;00m)\n\u001b[0;32m    185\u001b[0m \u001b[39melse\u001b[39;00m:\n\u001b[0;32m    186\u001b[0m     tree\u001b[39m.\u001b[39mfit(X, y, sample_weight\u001b[39m=\u001b[39msample_weight, check_input\u001b[39m=\u001b[39m\u001b[39mFalse\u001b[39;00m)\n",
      "File \u001b[1;32m~\\AppData\\Local\\Packages\\PythonSoftwareFoundation.Python.3.11_qbz5n2kfra8p0\\LocalCache\\local-packages\\Python311\\site-packages\\sklearn\\tree\\_classes.py:889\u001b[0m, in \u001b[0;36mDecisionTreeClassifier.fit\u001b[1;34m(self, X, y, sample_weight, check_input)\u001b[0m\n\u001b[0;32m    859\u001b[0m \u001b[39mdef\u001b[39;00m \u001b[39mfit\u001b[39m(\u001b[39mself\u001b[39m, X, y, sample_weight\u001b[39m=\u001b[39m\u001b[39mNone\u001b[39;00m, check_input\u001b[39m=\u001b[39m\u001b[39mTrue\u001b[39;00m):\n\u001b[0;32m    860\u001b[0m \u001b[39m    \u001b[39m\u001b[39m\"\"\"Build a decision tree classifier from the training set (X, y).\u001b[39;00m\n\u001b[0;32m    861\u001b[0m \n\u001b[0;32m    862\u001b[0m \u001b[39m    Parameters\u001b[39;00m\n\u001b[1;32m   (...)\u001b[0m\n\u001b[0;32m    886\u001b[0m \u001b[39m        Fitted estimator.\u001b[39;00m\n\u001b[0;32m    887\u001b[0m \u001b[39m    \"\"\"\u001b[39;00m\n\u001b[1;32m--> 889\u001b[0m     \u001b[39msuper\u001b[39;49m()\u001b[39m.\u001b[39;49mfit(\n\u001b[0;32m    890\u001b[0m         X,\n\u001b[0;32m    891\u001b[0m         y,\n\u001b[0;32m    892\u001b[0m         sample_weight\u001b[39m=\u001b[39;49msample_weight,\n\u001b[0;32m    893\u001b[0m         check_input\u001b[39m=\u001b[39;49mcheck_input,\n\u001b[0;32m    894\u001b[0m     )\n\u001b[0;32m    895\u001b[0m     \u001b[39mreturn\u001b[39;00m \u001b[39mself\u001b[39m\n",
      "File \u001b[1;32m~\\AppData\\Local\\Packages\\PythonSoftwareFoundation.Python.3.11_qbz5n2kfra8p0\\LocalCache\\local-packages\\Python311\\site-packages\\sklearn\\tree\\_classes.py:379\u001b[0m, in \u001b[0;36mBaseDecisionTree.fit\u001b[1;34m(self, X, y, sample_weight, check_input)\u001b[0m\n\u001b[0;32m    368\u001b[0m \u001b[39melse\u001b[39;00m:\n\u001b[0;32m    369\u001b[0m     builder \u001b[39m=\u001b[39m BestFirstTreeBuilder(\n\u001b[0;32m    370\u001b[0m         splitter,\n\u001b[0;32m    371\u001b[0m         min_samples_split,\n\u001b[1;32m   (...)\u001b[0m\n\u001b[0;32m    376\u001b[0m         \u001b[39mself\u001b[39m\u001b[39m.\u001b[39mmin_impurity_decrease,\n\u001b[0;32m    377\u001b[0m     )\n\u001b[1;32m--> 379\u001b[0m builder\u001b[39m.\u001b[39;49mbuild(\u001b[39mself\u001b[39;49m\u001b[39m.\u001b[39;49mtree_, X, y, sample_weight)\n\u001b[0;32m    381\u001b[0m \u001b[39mif\u001b[39;00m \u001b[39mself\u001b[39m\u001b[39m.\u001b[39mn_outputs_ \u001b[39m==\u001b[39m \u001b[39m1\u001b[39m \u001b[39mand\u001b[39;00m is_classifier(\u001b[39mself\u001b[39m):\n\u001b[0;32m    382\u001b[0m     \u001b[39mself\u001b[39m\u001b[39m.\u001b[39mn_classes_ \u001b[39m=\u001b[39m \u001b[39mself\u001b[39m\u001b[39m.\u001b[39mn_classes_[\u001b[39m0\u001b[39m]\n",
      "\u001b[1;31mKeyboardInterrupt\u001b[0m: "
     ]
    }
   ],
   "source": [
    "# from sklearn.feature_selection import RFE\n",
    "# from sklearn.ensemble import RandomForestClassifier\n",
    "\n",
    "# # Instantiate a random forest classifier model\n",
    "# rfc = RandomForestClassifier()\n",
    "\n",
    "# # Instantiate an RFE object with the number of features you want to select\n",
    "# rfe = RFE(rfc, n_features_to_select=10)\n",
    "\n",
    "# # Fit the RFE object to your data\n",
    "# rfe.fit(x, y)\n",
    "\n",
    "# # Print the feature rankings\n",
    "# print(rfe.ranking_)\n"
   ]
  },
  {
   "cell_type": "code",
   "execution_count": null,
   "metadata": {},
   "outputs": [],
   "source": [
    "# from sklearn.feature_selection import RFE\n",
    "# from sklearn.ensemble import RandomForestClassifier\n",
    "# from tqdm import tqdm\n",
    "\n",
    "# # Instantiate a random forest classifier model\n",
    "# rfc = RandomForestClassifier()\n",
    "\n",
    "# # Instantiate an RFE object with the number of features you want to select\n",
    "# rfe = RFE(rfc, n_features_to_select=10)\n",
    "\n",
    "# # Get the number of features to select\n",
    "# n_features = rfe.n_features_\n",
    "\n",
    "# # Create a progress bar for the feature selection process\n",
    "# pbar = tqdm(total=n_features, desc=\"Feature selection\")\n",
    "\n",
    "# # Loop over each feature and fit the RFE object to your data\n",
    "# for i in range(n_features):\n",
    "#     # Fit the RFE object to your data\n",
    "#     rfe.fit(x, y)\n",
    "    \n",
    "#     # Update the progress bar\n",
    "#     pbar.update(1)\n",
    "    \n",
    "# # Close the progress bar\n",
    "# pbar.close()\n",
    "\n",
    "# # Print the feature rankings\n",
    "# print(rfe.ranking_)\n"
   ]
  },
  {
   "cell_type": "code",
   "execution_count": 2,
   "metadata": {},
   "outputs": [
    {
     "name": "stderr",
     "output_type": "stream",
     "text": [
      "C:\\Users\\tnish\\AppData\\Local\\Packages\\PythonSoftwareFoundation.Python.3.10_qbz5n2kfra8p0\\LocalCache\\local-packages\\Python310\\site-packages\\tqdm\\auto.py:21: TqdmWarning: IProgress not found. Please update jupyter and ipywidgets. See https://ipywidgets.readthedocs.io/en/stable/user_install.html\n",
      "  from .autonotebook import tqdm as notebook_tqdm\n"
     ]
    }
   ],
   "source": [
    "import umap.umap_ as umap"
   ]
  },
  {
   "cell_type": "code",
   "execution_count": 11,
   "metadata": {},
   "outputs": [],
   "source": [
    "import pickle\n",
    "import numpy as np\n",
    "import pandas as pd\n",
    "from tqdm import tqdm\n"
   ]
  },
  {
   "cell_type": "code",
   "execution_count": 12,
   "metadata": {},
   "outputs": [],
   "source": [
    "df = pd.read_csv(\"C:/Users/tnish/Downloads/MINI PROJECT/Datasets/duplicate_final.csv\")"
   ]
  },
  {
   "cell_type": "code",
   "execution_count": 13,
   "metadata": {},
   "outputs": [],
   "source": [
    "df=df[['@', '?','-','=','.','#','%','+','$','!','*',',','//']]"
   ]
  },
  {
   "cell_type": "code",
   "execution_count": 17,
   "metadata": {},
   "outputs": [
    {
     "name": "stderr",
     "output_type": "stream",
     "text": [
      "  0%|          | 0/100 [00:17<?, ?it/s]\n"
     ]
    },
    {
     "ename": "KeyboardInterrupt",
     "evalue": "",
     "output_type": "error",
     "traceback": [
      "\u001b[1;31m---------------------------------------------------------------------------\u001b[0m",
      "\u001b[1;31mKeyboardInterrupt\u001b[0m                         Traceback (most recent call last)",
      "Cell \u001b[1;32mIn[17], line 7\u001b[0m\n\u001b[0;32m      5\u001b[0m umap_values \u001b[39m=\u001b[39m []\n\u001b[0;32m      6\u001b[0m \u001b[39mfor\u001b[39;00m batch \u001b[39min\u001b[39;00m tqdm(np\u001b[39m.\u001b[39marray_split(df[columns_to_umap]\u001b[39m.\u001b[39mvalues, \u001b[39m100\u001b[39m)):\n\u001b[1;32m----> 7\u001b[0m     umap_values\u001b[39m.\u001b[39mappend(umap_obj\u001b[39m.\u001b[39;49mfit_transform(batch))\n\u001b[0;32m      8\u001b[0m umap_values \u001b[39m=\u001b[39m np\u001b[39m.\u001b[39mvstack(umap_values)\n\u001b[0;32m     10\u001b[0m \u001b[39m# save the trained UMAP object to a file using joblib\u001b[39;00m\n",
      "File \u001b[1;32m~\\AppData\\Local\\Packages\\PythonSoftwareFoundation.Python.3.10_qbz5n2kfra8p0\\LocalCache\\local-packages\\Python310\\site-packages\\umap\\umap_.py:2772\u001b[0m, in \u001b[0;36mUMAP.fit_transform\u001b[1;34m(self, X, y)\u001b[0m\n\u001b[0;32m   2742\u001b[0m \u001b[39mdef\u001b[39;00m \u001b[39mfit_transform\u001b[39m(\u001b[39mself\u001b[39m, X, y\u001b[39m=\u001b[39m\u001b[39mNone\u001b[39;00m):\n\u001b[0;32m   2743\u001b[0m \u001b[39m    \u001b[39m\u001b[39m\"\"\"Fit X into an embedded space and return that transformed\u001b[39;00m\n\u001b[0;32m   2744\u001b[0m \u001b[39m    output.\u001b[39;00m\n\u001b[0;32m   2745\u001b[0m \n\u001b[1;32m   (...)\u001b[0m\n\u001b[0;32m   2770\u001b[0m \u001b[39m        Local radii of data points in the embedding (log-transformed).\u001b[39;00m\n\u001b[0;32m   2771\u001b[0m \u001b[39m    \"\"\"\u001b[39;00m\n\u001b[1;32m-> 2772\u001b[0m     \u001b[39mself\u001b[39;49m\u001b[39m.\u001b[39;49mfit(X, y)\n\u001b[0;32m   2773\u001b[0m     \u001b[39mif\u001b[39;00m \u001b[39mself\u001b[39m\u001b[39m.\u001b[39mtransform_mode \u001b[39m==\u001b[39m \u001b[39m\"\u001b[39m\u001b[39membedding\u001b[39m\u001b[39m\"\u001b[39m:\n\u001b[0;32m   2774\u001b[0m         \u001b[39mif\u001b[39;00m \u001b[39mself\u001b[39m\u001b[39m.\u001b[39moutput_dens:\n",
      "File \u001b[1;32m~\\AppData\\Local\\Packages\\PythonSoftwareFoundation.Python.3.10_qbz5n2kfra8p0\\LocalCache\\local-packages\\Python310\\site-packages\\umap\\umap_.py:2684\u001b[0m, in \u001b[0;36mUMAP.fit\u001b[1;34m(self, X, y)\u001b[0m\n\u001b[0;32m   2681\u001b[0m     \u001b[39mprint\u001b[39m(ts(), \u001b[39m\"\u001b[39m\u001b[39mConstruct embedding\u001b[39m\u001b[39m\"\u001b[39m)\n\u001b[0;32m   2683\u001b[0m \u001b[39mif\u001b[39;00m \u001b[39mself\u001b[39m\u001b[39m.\u001b[39mtransform_mode \u001b[39m==\u001b[39m \u001b[39m\"\u001b[39m\u001b[39membedding\u001b[39m\u001b[39m\"\u001b[39m:\n\u001b[1;32m-> 2684\u001b[0m     \u001b[39mself\u001b[39m\u001b[39m.\u001b[39membedding_, aux_data \u001b[39m=\u001b[39m \u001b[39mself\u001b[39;49m\u001b[39m.\u001b[39;49m_fit_embed_data(\n\u001b[0;32m   2685\u001b[0m         \u001b[39mself\u001b[39;49m\u001b[39m.\u001b[39;49m_raw_data[index],\n\u001b[0;32m   2686\u001b[0m         \u001b[39mself\u001b[39;49m\u001b[39m.\u001b[39;49mn_epochs,\n\u001b[0;32m   2687\u001b[0m         init,\n\u001b[0;32m   2688\u001b[0m         random_state,  \u001b[39m# JH why raw data?\u001b[39;49;00m\n\u001b[0;32m   2689\u001b[0m     )\n\u001b[0;32m   2690\u001b[0m     \u001b[39m# Assign any points that are fully disconnected from our manifold(s) to have embedding\u001b[39;00m\n\u001b[0;32m   2691\u001b[0m     \u001b[39m# coordinates of np.nan.  These will be filtered by our plotting functions automatically.\u001b[39;00m\n\u001b[0;32m   2692\u001b[0m     \u001b[39m# They also prevent users from being deceived a distance query to one of these points.\u001b[39;00m\n\u001b[0;32m   2693\u001b[0m     \u001b[39m# Might be worth moving this into simplicial_set_embedding or _fit_embed_data\u001b[39;00m\n\u001b[0;32m   2694\u001b[0m     disconnected_vertices \u001b[39m=\u001b[39m np\u001b[39m.\u001b[39marray(\u001b[39mself\u001b[39m\u001b[39m.\u001b[39mgraph_\u001b[39m.\u001b[39msum(axis\u001b[39m=\u001b[39m\u001b[39m1\u001b[39m))\u001b[39m.\u001b[39mflatten() \u001b[39m==\u001b[39m \u001b[39m0\u001b[39m\n",
      "File \u001b[1;32m~\\AppData\\Local\\Packages\\PythonSoftwareFoundation.Python.3.10_qbz5n2kfra8p0\\LocalCache\\local-packages\\Python310\\site-packages\\umap\\umap_.py:2717\u001b[0m, in \u001b[0;36mUMAP._fit_embed_data\u001b[1;34m(self, X, n_epochs, init, random_state)\u001b[0m\n\u001b[0;32m   2713\u001b[0m \u001b[39mdef\u001b[39;00m \u001b[39m_fit_embed_data\u001b[39m(\u001b[39mself\u001b[39m, X, n_epochs, init, random_state):\n\u001b[0;32m   2714\u001b[0m \u001b[39m    \u001b[39m\u001b[39m\"\"\"A method wrapper for simplicial_set_embedding that can be\u001b[39;00m\n\u001b[0;32m   2715\u001b[0m \u001b[39m    replaced by subclasses.\u001b[39;00m\n\u001b[0;32m   2716\u001b[0m \u001b[39m    \"\"\"\u001b[39;00m\n\u001b[1;32m-> 2717\u001b[0m     \u001b[39mreturn\u001b[39;00m simplicial_set_embedding(\n\u001b[0;32m   2718\u001b[0m         X,\n\u001b[0;32m   2719\u001b[0m         \u001b[39mself\u001b[39;49m\u001b[39m.\u001b[39;49mgraph_,\n\u001b[0;32m   2720\u001b[0m         \u001b[39mself\u001b[39;49m\u001b[39m.\u001b[39;49mn_components,\n\u001b[0;32m   2721\u001b[0m         \u001b[39mself\u001b[39;49m\u001b[39m.\u001b[39;49m_initial_alpha,\n\u001b[0;32m   2722\u001b[0m         \u001b[39mself\u001b[39;49m\u001b[39m.\u001b[39;49m_a,\n\u001b[0;32m   2723\u001b[0m         \u001b[39mself\u001b[39;49m\u001b[39m.\u001b[39;49m_b,\n\u001b[0;32m   2724\u001b[0m         \u001b[39mself\u001b[39;49m\u001b[39m.\u001b[39;49mrepulsion_strength,\n\u001b[0;32m   2725\u001b[0m         \u001b[39mself\u001b[39;49m\u001b[39m.\u001b[39;49mnegative_sample_rate,\n\u001b[0;32m   2726\u001b[0m         n_epochs,\n\u001b[0;32m   2727\u001b[0m         init,\n\u001b[0;32m   2728\u001b[0m         random_state,\n\u001b[0;32m   2729\u001b[0m         \u001b[39mself\u001b[39;49m\u001b[39m.\u001b[39;49m_input_distance_func,\n\u001b[0;32m   2730\u001b[0m         \u001b[39mself\u001b[39;49m\u001b[39m.\u001b[39;49m_metric_kwds,\n\u001b[0;32m   2731\u001b[0m         \u001b[39mself\u001b[39;49m\u001b[39m.\u001b[39;49mdensmap,\n\u001b[0;32m   2732\u001b[0m         \u001b[39mself\u001b[39;49m\u001b[39m.\u001b[39;49m_densmap_kwds,\n\u001b[0;32m   2733\u001b[0m         \u001b[39mself\u001b[39;49m\u001b[39m.\u001b[39;49moutput_dens,\n\u001b[0;32m   2734\u001b[0m         \u001b[39mself\u001b[39;49m\u001b[39m.\u001b[39;49m_output_distance_func,\n\u001b[0;32m   2735\u001b[0m         \u001b[39mself\u001b[39;49m\u001b[39m.\u001b[39;49m_output_metric_kwds,\n\u001b[0;32m   2736\u001b[0m         \u001b[39mself\u001b[39;49m\u001b[39m.\u001b[39;49moutput_metric \u001b[39min\u001b[39;49;00m (\u001b[39m\"\u001b[39;49m\u001b[39meuclidean\u001b[39;49m\u001b[39m\"\u001b[39;49m, \u001b[39m\"\u001b[39;49m\u001b[39ml2\u001b[39;49m\u001b[39m\"\u001b[39;49m),\n\u001b[0;32m   2737\u001b[0m         \u001b[39mself\u001b[39;49m\u001b[39m.\u001b[39;49mrandom_state \u001b[39mis\u001b[39;49;00m \u001b[39mNone\u001b[39;49;00m,\n\u001b[0;32m   2738\u001b[0m         \u001b[39mself\u001b[39;49m\u001b[39m.\u001b[39;49mverbose,\n\u001b[0;32m   2739\u001b[0m         tqdm_kwds\u001b[39m=\u001b[39;49m\u001b[39mself\u001b[39;49m\u001b[39m.\u001b[39;49mtqdm_kwds,\n\u001b[0;32m   2740\u001b[0m     )\n",
      "File \u001b[1;32m~\\AppData\\Local\\Packages\\PythonSoftwareFoundation.Python.3.10_qbz5n2kfra8p0\\LocalCache\\local-packages\\Python310\\site-packages\\umap\\umap_.py:1156\u001b[0m, in \u001b[0;36msimplicial_set_embedding\u001b[1;34m(data, graph, n_components, initial_alpha, a, b, gamma, negative_sample_rate, n_epochs, init, random_state, metric, metric_kwds, densmap, densmap_kwds, output_dens, output_metric, output_metric_kwds, euclidean_output, parallel, verbose, tqdm_kwds)\u001b[0m\n\u001b[0;32m   1149\u001b[0m embedding \u001b[39m=\u001b[39m (\n\u001b[0;32m   1150\u001b[0m     \u001b[39m10.0\u001b[39m\n\u001b[0;32m   1151\u001b[0m     \u001b[39m*\u001b[39m (embedding \u001b[39m-\u001b[39m np\u001b[39m.\u001b[39mmin(embedding, \u001b[39m0\u001b[39m))\n\u001b[0;32m   1152\u001b[0m     \u001b[39m/\u001b[39m (np\u001b[39m.\u001b[39mmax(embedding, \u001b[39m0\u001b[39m) \u001b[39m-\u001b[39m np\u001b[39m.\u001b[39mmin(embedding, \u001b[39m0\u001b[39m))\n\u001b[0;32m   1153\u001b[0m )\u001b[39m.\u001b[39mastype(np\u001b[39m.\u001b[39mfloat32, order\u001b[39m=\u001b[39m\u001b[39m\"\u001b[39m\u001b[39mC\u001b[39m\u001b[39m\"\u001b[39m)\n\u001b[0;32m   1155\u001b[0m \u001b[39mif\u001b[39;00m euclidean_output:\n\u001b[1;32m-> 1156\u001b[0m     embedding \u001b[39m=\u001b[39m optimize_layout_euclidean(\n\u001b[0;32m   1157\u001b[0m         embedding,\n\u001b[0;32m   1158\u001b[0m         embedding,\n\u001b[0;32m   1159\u001b[0m         head,\n\u001b[0;32m   1160\u001b[0m         tail,\n\u001b[0;32m   1161\u001b[0m         n_epochs,\n\u001b[0;32m   1162\u001b[0m         n_vertices,\n\u001b[0;32m   1163\u001b[0m         epochs_per_sample,\n\u001b[0;32m   1164\u001b[0m         a,\n\u001b[0;32m   1165\u001b[0m         b,\n\u001b[0;32m   1166\u001b[0m         rng_state,\n\u001b[0;32m   1167\u001b[0m         gamma,\n\u001b[0;32m   1168\u001b[0m         initial_alpha,\n\u001b[0;32m   1169\u001b[0m         negative_sample_rate,\n\u001b[0;32m   1170\u001b[0m         parallel\u001b[39m=\u001b[39;49mparallel,\n\u001b[0;32m   1171\u001b[0m         verbose\u001b[39m=\u001b[39;49mverbose,\n\u001b[0;32m   1172\u001b[0m         densmap\u001b[39m=\u001b[39;49mdensmap,\n\u001b[0;32m   1173\u001b[0m         densmap_kwds\u001b[39m=\u001b[39;49mdensmap_kwds,\n\u001b[0;32m   1174\u001b[0m         tqdm_kwds\u001b[39m=\u001b[39;49mtqdm_kwds,\n\u001b[0;32m   1175\u001b[0m         move_other\u001b[39m=\u001b[39;49m\u001b[39mTrue\u001b[39;49;00m,\n\u001b[0;32m   1176\u001b[0m     )\n\u001b[0;32m   1177\u001b[0m \u001b[39melse\u001b[39;00m:\n\u001b[0;32m   1178\u001b[0m     embedding \u001b[39m=\u001b[39m optimize_layout_generic(\n\u001b[0;32m   1179\u001b[0m         embedding,\n\u001b[0;32m   1180\u001b[0m         embedding,\n\u001b[1;32m   (...)\u001b[0m\n\u001b[0;32m   1196\u001b[0m         move_other\u001b[39m=\u001b[39m\u001b[39mTrue\u001b[39;00m,\n\u001b[0;32m   1197\u001b[0m     )\n",
      "File \u001b[1;32m~\\AppData\\Local\\Packages\\PythonSoftwareFoundation.Python.3.10_qbz5n2kfra8p0\\LocalCache\\local-packages\\Python310\\site-packages\\umap\\layouts.py:369\u001b[0m, in \u001b[0;36moptimize_layout_euclidean\u001b[1;34m(head_embedding, tail_embedding, head, tail, n_epochs, n_vertices, epochs_per_sample, a, b, rng_state, gamma, initial_alpha, negative_sample_rate, parallel, verbose, densmap, densmap_kwds, tqdm_kwds, move_other)\u001b[0m\n\u001b[0;32m    366\u001b[0m         dens_re_mean \u001b[39m=\u001b[39m \u001b[39m0\u001b[39m\n\u001b[0;32m    367\u001b[0m         dens_re_cov \u001b[39m=\u001b[39m \u001b[39m0\u001b[39m\n\u001b[1;32m--> 369\u001b[0m     optimize_fn(\n\u001b[0;32m    370\u001b[0m         head_embedding,\n\u001b[0;32m    371\u001b[0m         tail_embedding,\n\u001b[0;32m    372\u001b[0m         head,\n\u001b[0;32m    373\u001b[0m         tail,\n\u001b[0;32m    374\u001b[0m         n_vertices,\n\u001b[0;32m    375\u001b[0m         epochs_per_sample,\n\u001b[0;32m    376\u001b[0m         a,\n\u001b[0;32m    377\u001b[0m         b,\n\u001b[0;32m    378\u001b[0m         rng_state,\n\u001b[0;32m    379\u001b[0m         gamma,\n\u001b[0;32m    380\u001b[0m         dim,\n\u001b[0;32m    381\u001b[0m         move_other,\n\u001b[0;32m    382\u001b[0m         alpha,\n\u001b[0;32m    383\u001b[0m         epochs_per_negative_sample,\n\u001b[0;32m    384\u001b[0m         epoch_of_next_negative_sample,\n\u001b[0;32m    385\u001b[0m         epoch_of_next_sample,\n\u001b[0;32m    386\u001b[0m         n,\n\u001b[0;32m    387\u001b[0m         densmap_flag,\n\u001b[0;32m    388\u001b[0m         dens_phi_sum,\n\u001b[0;32m    389\u001b[0m         dens_re_sum,\n\u001b[0;32m    390\u001b[0m         dens_re_cov,\n\u001b[0;32m    391\u001b[0m         dens_re_std,\n\u001b[0;32m    392\u001b[0m         dens_re_mean,\n\u001b[0;32m    393\u001b[0m         dens_lambda,\n\u001b[0;32m    394\u001b[0m         dens_R,\n\u001b[0;32m    395\u001b[0m         dens_mu,\n\u001b[0;32m    396\u001b[0m         dens_mu_tot,\n\u001b[0;32m    397\u001b[0m     )\n\u001b[0;32m    399\u001b[0m     alpha \u001b[39m=\u001b[39m initial_alpha \u001b[39m*\u001b[39m (\u001b[39m1.0\u001b[39m \u001b[39m-\u001b[39m (\u001b[39mfloat\u001b[39m(n) \u001b[39m/\u001b[39m \u001b[39mfloat\u001b[39m(n_epochs)))\n\u001b[0;32m    401\u001b[0m \u001b[39mreturn\u001b[39;00m head_embedding\n",
      "File \u001b[1;32m~\\AppData\\Local\\Packages\\PythonSoftwareFoundation.Python.3.10_qbz5n2kfra8p0\\LocalCache\\local-packages\\Python310\\site-packages\\numba\\core\\dispatcher.py:420\u001b[0m, in \u001b[0;36m_DispatcherBase._compile_for_args\u001b[1;34m(self, *args, **kws)\u001b[0m\n\u001b[0;32m    418\u001b[0m return_val \u001b[39m=\u001b[39m \u001b[39mNone\u001b[39;00m\n\u001b[0;32m    419\u001b[0m \u001b[39mtry\u001b[39;00m:\n\u001b[1;32m--> 420\u001b[0m     return_val \u001b[39m=\u001b[39m \u001b[39mself\u001b[39;49m\u001b[39m.\u001b[39;49mcompile(\u001b[39mtuple\u001b[39;49m(argtypes))\n\u001b[0;32m    421\u001b[0m \u001b[39mexcept\u001b[39;00m errors\u001b[39m.\u001b[39mForceLiteralArg \u001b[39mas\u001b[39;00m e:\n\u001b[0;32m    422\u001b[0m     \u001b[39m# Received request for compiler re-entry with the list of arguments\u001b[39;00m\n\u001b[0;32m    423\u001b[0m     \u001b[39m# indicated by e.requested_args.\u001b[39;00m\n\u001b[0;32m    424\u001b[0m     \u001b[39m# First, check if any of these args are already Literal-ized\u001b[39;00m\n\u001b[0;32m    425\u001b[0m     already_lit_pos \u001b[39m=\u001b[39m [i \u001b[39mfor\u001b[39;00m i \u001b[39min\u001b[39;00m e\u001b[39m.\u001b[39mrequested_args\n\u001b[0;32m    426\u001b[0m                        \u001b[39mif\u001b[39;00m \u001b[39misinstance\u001b[39m(args[i], types\u001b[39m.\u001b[39mLiteral)]\n",
      "File \u001b[1;32m~\\AppData\\Local\\Packages\\PythonSoftwareFoundation.Python.3.10_qbz5n2kfra8p0\\LocalCache\\local-packages\\Python310\\site-packages\\numba\\core\\dispatcher.py:965\u001b[0m, in \u001b[0;36mDispatcher.compile\u001b[1;34m(self, sig)\u001b[0m\n\u001b[0;32m    963\u001b[0m \u001b[39mwith\u001b[39;00m ev\u001b[39m.\u001b[39mtrigger_event(\u001b[39m\"\u001b[39m\u001b[39mnumba:compile\u001b[39m\u001b[39m\"\u001b[39m, data\u001b[39m=\u001b[39mev_details):\n\u001b[0;32m    964\u001b[0m     \u001b[39mtry\u001b[39;00m:\n\u001b[1;32m--> 965\u001b[0m         cres \u001b[39m=\u001b[39m \u001b[39mself\u001b[39;49m\u001b[39m.\u001b[39;49m_compiler\u001b[39m.\u001b[39;49mcompile(args, return_type)\n\u001b[0;32m    966\u001b[0m     \u001b[39mexcept\u001b[39;00m errors\u001b[39m.\u001b[39mForceLiteralArg \u001b[39mas\u001b[39;00m e:\n\u001b[0;32m    967\u001b[0m         \u001b[39mdef\u001b[39;00m \u001b[39mfolded\u001b[39m(args, kws):\n",
      "File \u001b[1;32m~\\AppData\\Local\\Packages\\PythonSoftwareFoundation.Python.3.10_qbz5n2kfra8p0\\LocalCache\\local-packages\\Python310\\site-packages\\numba\\core\\dispatcher.py:125\u001b[0m, in \u001b[0;36m_FunctionCompiler.compile\u001b[1;34m(self, args, return_type)\u001b[0m\n\u001b[0;32m    124\u001b[0m \u001b[39mdef\u001b[39;00m \u001b[39mcompile\u001b[39m(\u001b[39mself\u001b[39m, args, return_type):\n\u001b[1;32m--> 125\u001b[0m     status, retval \u001b[39m=\u001b[39m \u001b[39mself\u001b[39;49m\u001b[39m.\u001b[39;49m_compile_cached(args, return_type)\n\u001b[0;32m    126\u001b[0m     \u001b[39mif\u001b[39;00m status:\n\u001b[0;32m    127\u001b[0m         \u001b[39mreturn\u001b[39;00m retval\n",
      "File \u001b[1;32m~\\AppData\\Local\\Packages\\PythonSoftwareFoundation.Python.3.10_qbz5n2kfra8p0\\LocalCache\\local-packages\\Python310\\site-packages\\numba\\core\\dispatcher.py:139\u001b[0m, in \u001b[0;36m_FunctionCompiler._compile_cached\u001b[1;34m(self, args, return_type)\u001b[0m\n\u001b[0;32m    136\u001b[0m     \u001b[39mpass\u001b[39;00m\n\u001b[0;32m    138\u001b[0m \u001b[39mtry\u001b[39;00m:\n\u001b[1;32m--> 139\u001b[0m     retval \u001b[39m=\u001b[39m \u001b[39mself\u001b[39;49m\u001b[39m.\u001b[39;49m_compile_core(args, return_type)\n\u001b[0;32m    140\u001b[0m \u001b[39mexcept\u001b[39;00m errors\u001b[39m.\u001b[39mTypingError \u001b[39mas\u001b[39;00m e:\n\u001b[0;32m    141\u001b[0m     \u001b[39mself\u001b[39m\u001b[39m.\u001b[39m_failed_cache[key] \u001b[39m=\u001b[39m e\n",
      "File \u001b[1;32m~\\AppData\\Local\\Packages\\PythonSoftwareFoundation.Python.3.10_qbz5n2kfra8p0\\LocalCache\\local-packages\\Python310\\site-packages\\numba\\core\\dispatcher.py:152\u001b[0m, in \u001b[0;36m_FunctionCompiler._compile_core\u001b[1;34m(self, args, return_type)\u001b[0m\n\u001b[0;32m    149\u001b[0m flags \u001b[39m=\u001b[39m \u001b[39mself\u001b[39m\u001b[39m.\u001b[39m_customize_flags(flags)\n\u001b[0;32m    151\u001b[0m impl \u001b[39m=\u001b[39m \u001b[39mself\u001b[39m\u001b[39m.\u001b[39m_get_implementation(args, {})\n\u001b[1;32m--> 152\u001b[0m cres \u001b[39m=\u001b[39m compiler\u001b[39m.\u001b[39;49mcompile_extra(\u001b[39mself\u001b[39;49m\u001b[39m.\u001b[39;49mtargetdescr\u001b[39m.\u001b[39;49mtyping_context,\n\u001b[0;32m    153\u001b[0m                               \u001b[39mself\u001b[39;49m\u001b[39m.\u001b[39;49mtargetdescr\u001b[39m.\u001b[39;49mtarget_context,\n\u001b[0;32m    154\u001b[0m                               impl,\n\u001b[0;32m    155\u001b[0m                               args\u001b[39m=\u001b[39;49margs, return_type\u001b[39m=\u001b[39;49mreturn_type,\n\u001b[0;32m    156\u001b[0m                               flags\u001b[39m=\u001b[39;49mflags, \u001b[39mlocals\u001b[39;49m\u001b[39m=\u001b[39;49m\u001b[39mself\u001b[39;49m\u001b[39m.\u001b[39;49mlocals,\n\u001b[0;32m    157\u001b[0m                               pipeline_class\u001b[39m=\u001b[39;49m\u001b[39mself\u001b[39;49m\u001b[39m.\u001b[39;49mpipeline_class)\n\u001b[0;32m    158\u001b[0m \u001b[39m# Check typing error if object mode is used\u001b[39;00m\n\u001b[0;32m    159\u001b[0m \u001b[39mif\u001b[39;00m cres\u001b[39m.\u001b[39mtyping_error \u001b[39mis\u001b[39;00m \u001b[39mnot\u001b[39;00m \u001b[39mNone\u001b[39;00m \u001b[39mand\u001b[39;00m \u001b[39mnot\u001b[39;00m flags\u001b[39m.\u001b[39menable_pyobject:\n",
      "File \u001b[1;32m~\\AppData\\Local\\Packages\\PythonSoftwareFoundation.Python.3.10_qbz5n2kfra8p0\\LocalCache\\local-packages\\Python310\\site-packages\\numba\\core\\compiler.py:716\u001b[0m, in \u001b[0;36mcompile_extra\u001b[1;34m(typingctx, targetctx, func, args, return_type, flags, locals, library, pipeline_class)\u001b[0m\n\u001b[0;32m    692\u001b[0m \u001b[39m\u001b[39m\u001b[39m\"\"\"Compiler entry point\u001b[39;00m\n\u001b[0;32m    693\u001b[0m \n\u001b[0;32m    694\u001b[0m \u001b[39mParameter\u001b[39;00m\n\u001b[1;32m   (...)\u001b[0m\n\u001b[0;32m    712\u001b[0m \u001b[39m    compiler pipeline\u001b[39;00m\n\u001b[0;32m    713\u001b[0m \u001b[39m\"\"\"\u001b[39;00m\n\u001b[0;32m    714\u001b[0m pipeline \u001b[39m=\u001b[39m pipeline_class(typingctx, targetctx, library,\n\u001b[0;32m    715\u001b[0m                           args, return_type, flags, \u001b[39mlocals\u001b[39m)\n\u001b[1;32m--> 716\u001b[0m \u001b[39mreturn\u001b[39;00m pipeline\u001b[39m.\u001b[39;49mcompile_extra(func)\n",
      "File \u001b[1;32m~\\AppData\\Local\\Packages\\PythonSoftwareFoundation.Python.3.10_qbz5n2kfra8p0\\LocalCache\\local-packages\\Python310\\site-packages\\numba\\core\\compiler.py:452\u001b[0m, in \u001b[0;36mCompilerBase.compile_extra\u001b[1;34m(self, func)\u001b[0m\n\u001b[0;32m    450\u001b[0m \u001b[39mself\u001b[39m\u001b[39m.\u001b[39mstate\u001b[39m.\u001b[39mlifted \u001b[39m=\u001b[39m ()\n\u001b[0;32m    451\u001b[0m \u001b[39mself\u001b[39m\u001b[39m.\u001b[39mstate\u001b[39m.\u001b[39mlifted_from \u001b[39m=\u001b[39m \u001b[39mNone\u001b[39;00m\n\u001b[1;32m--> 452\u001b[0m \u001b[39mreturn\u001b[39;00m \u001b[39mself\u001b[39;49m\u001b[39m.\u001b[39;49m_compile_bytecode()\n",
      "File \u001b[1;32m~\\AppData\\Local\\Packages\\PythonSoftwareFoundation.Python.3.10_qbz5n2kfra8p0\\LocalCache\\local-packages\\Python310\\site-packages\\numba\\core\\compiler.py:520\u001b[0m, in \u001b[0;36mCompilerBase._compile_bytecode\u001b[1;34m(self)\u001b[0m\n\u001b[0;32m    516\u001b[0m \u001b[39m\u001b[39m\u001b[39m\"\"\"\u001b[39;00m\n\u001b[0;32m    517\u001b[0m \u001b[39mPopulate and run pipeline for bytecode input\u001b[39;00m\n\u001b[0;32m    518\u001b[0m \u001b[39m\"\"\"\u001b[39;00m\n\u001b[0;32m    519\u001b[0m \u001b[39massert\u001b[39;00m \u001b[39mself\u001b[39m\u001b[39m.\u001b[39mstate\u001b[39m.\u001b[39mfunc_ir \u001b[39mis\u001b[39;00m \u001b[39mNone\u001b[39;00m\n\u001b[1;32m--> 520\u001b[0m \u001b[39mreturn\u001b[39;00m \u001b[39mself\u001b[39;49m\u001b[39m.\u001b[39;49m_compile_core()\n",
      "File \u001b[1;32m~\\AppData\\Local\\Packages\\PythonSoftwareFoundation.Python.3.10_qbz5n2kfra8p0\\LocalCache\\local-packages\\Python310\\site-packages\\numba\\core\\compiler.py:486\u001b[0m, in \u001b[0;36mCompilerBase._compile_core\u001b[1;34m(self)\u001b[0m\n\u001b[0;32m    484\u001b[0m res \u001b[39m=\u001b[39m \u001b[39mNone\u001b[39;00m\n\u001b[0;32m    485\u001b[0m \u001b[39mtry\u001b[39;00m:\n\u001b[1;32m--> 486\u001b[0m     pm\u001b[39m.\u001b[39;49mrun(\u001b[39mself\u001b[39;49m\u001b[39m.\u001b[39;49mstate)\n\u001b[0;32m    487\u001b[0m     \u001b[39mif\u001b[39;00m \u001b[39mself\u001b[39m\u001b[39m.\u001b[39mstate\u001b[39m.\u001b[39mcr \u001b[39mis\u001b[39;00m \u001b[39mnot\u001b[39;00m \u001b[39mNone\u001b[39;00m:\n\u001b[0;32m    488\u001b[0m         \u001b[39mbreak\u001b[39;00m\n",
      "File \u001b[1;32m~\\AppData\\Local\\Packages\\PythonSoftwareFoundation.Python.3.10_qbz5n2kfra8p0\\LocalCache\\local-packages\\Python310\\site-packages\\numba\\core\\compiler_machinery.py:356\u001b[0m, in \u001b[0;36mPassManager.run\u001b[1;34m(self, state)\u001b[0m\n\u001b[0;32m    354\u001b[0m pass_inst \u001b[39m=\u001b[39m _pass_registry\u001b[39m.\u001b[39mget(pss)\u001b[39m.\u001b[39mpass_inst\n\u001b[0;32m    355\u001b[0m \u001b[39mif\u001b[39;00m \u001b[39misinstance\u001b[39m(pass_inst, CompilerPass):\n\u001b[1;32m--> 356\u001b[0m     \u001b[39mself\u001b[39;49m\u001b[39m.\u001b[39;49m_runPass(idx, pass_inst, state)\n\u001b[0;32m    357\u001b[0m \u001b[39melse\u001b[39;00m:\n\u001b[0;32m    358\u001b[0m     \u001b[39mraise\u001b[39;00m \u001b[39mBaseException\u001b[39;00m(\u001b[39m\"\u001b[39m\u001b[39mLegacy pass in use\u001b[39m\u001b[39m\"\u001b[39m)\n",
      "File \u001b[1;32m~\\AppData\\Local\\Packages\\PythonSoftwareFoundation.Python.3.10_qbz5n2kfra8p0\\LocalCache\\local-packages\\Python310\\site-packages\\numba\\core\\compiler_lock.py:35\u001b[0m, in \u001b[0;36m_CompilerLock.__call__.<locals>._acquire_compile_lock\u001b[1;34m(*args, **kwargs)\u001b[0m\n\u001b[0;32m     32\u001b[0m \u001b[39m@functools\u001b[39m\u001b[39m.\u001b[39mwraps(func)\n\u001b[0;32m     33\u001b[0m \u001b[39mdef\u001b[39;00m \u001b[39m_acquire_compile_lock\u001b[39m(\u001b[39m*\u001b[39margs, \u001b[39m*\u001b[39m\u001b[39m*\u001b[39mkwargs):\n\u001b[0;32m     34\u001b[0m     \u001b[39mwith\u001b[39;00m \u001b[39mself\u001b[39m:\n\u001b[1;32m---> 35\u001b[0m         \u001b[39mreturn\u001b[39;00m func(\u001b[39m*\u001b[39margs, \u001b[39m*\u001b[39m\u001b[39m*\u001b[39mkwargs)\n",
      "File \u001b[1;32m~\\AppData\\Local\\Packages\\PythonSoftwareFoundation.Python.3.10_qbz5n2kfra8p0\\LocalCache\\local-packages\\Python310\\site-packages\\numba\\core\\compiler_machinery.py:311\u001b[0m, in \u001b[0;36mPassManager._runPass\u001b[1;34m(self, index, pss, internal_state)\u001b[0m\n\u001b[0;32m    309\u001b[0m     mutated \u001b[39m|\u001b[39m\u001b[39m=\u001b[39m check(pss\u001b[39m.\u001b[39mrun_initialization, internal_state)\n\u001b[0;32m    310\u001b[0m \u001b[39mwith\u001b[39;00m SimpleTimer() \u001b[39mas\u001b[39;00m pass_time:\n\u001b[1;32m--> 311\u001b[0m     mutated \u001b[39m|\u001b[39m\u001b[39m=\u001b[39m check(pss\u001b[39m.\u001b[39;49mrun_pass, internal_state)\n\u001b[0;32m    312\u001b[0m \u001b[39mwith\u001b[39;00m SimpleTimer() \u001b[39mas\u001b[39;00m finalize_time:\n\u001b[0;32m    313\u001b[0m     mutated \u001b[39m|\u001b[39m\u001b[39m=\u001b[39m check(pss\u001b[39m.\u001b[39mrun_finalizer, internal_state)\n",
      "File \u001b[1;32m~\\AppData\\Local\\Packages\\PythonSoftwareFoundation.Python.3.10_qbz5n2kfra8p0\\LocalCache\\local-packages\\Python310\\site-packages\\numba\\core\\compiler_machinery.py:273\u001b[0m, in \u001b[0;36mPassManager._runPass.<locals>.check\u001b[1;34m(func, compiler_state)\u001b[0m\n\u001b[0;32m    272\u001b[0m \u001b[39mdef\u001b[39;00m \u001b[39mcheck\u001b[39m(func, compiler_state):\n\u001b[1;32m--> 273\u001b[0m     mangled \u001b[39m=\u001b[39m func(compiler_state)\n\u001b[0;32m    274\u001b[0m     \u001b[39mif\u001b[39;00m mangled \u001b[39mnot\u001b[39;00m \u001b[39min\u001b[39;00m (\u001b[39mTrue\u001b[39;00m, \u001b[39mFalse\u001b[39;00m):\n\u001b[0;32m    275\u001b[0m         msg \u001b[39m=\u001b[39m (\u001b[39m\"\u001b[39m\u001b[39mCompilerPass implementations should return True/False. \u001b[39m\u001b[39m\"\u001b[39m\n\u001b[0;32m    276\u001b[0m                \u001b[39m\"\u001b[39m\u001b[39mCompilerPass with name \u001b[39m\u001b[39m'\u001b[39m\u001b[39m%s\u001b[39;00m\u001b[39m'\u001b[39m\u001b[39m did not.\u001b[39m\u001b[39m\"\u001b[39m)\n",
      "File \u001b[1;32m~\\AppData\\Local\\Packages\\PythonSoftwareFoundation.Python.3.10_qbz5n2kfra8p0\\LocalCache\\local-packages\\Python310\\site-packages\\numba\\core\\typed_passes.py:394\u001b[0m, in \u001b[0;36mNativeLowering.run_pass\u001b[1;34m(self, state)\u001b[0m\n\u001b[0;32m    391\u001b[0m \u001b[39mwith\u001b[39;00m targetctx\u001b[39m.\u001b[39mpush_code_library(library):\n\u001b[0;32m    392\u001b[0m     lower \u001b[39m=\u001b[39m lowering\u001b[39m.\u001b[39mLower(targetctx, library, fndesc, interp,\n\u001b[0;32m    393\u001b[0m                            metadata\u001b[39m=\u001b[39mmetadata)\n\u001b[1;32m--> 394\u001b[0m     lower\u001b[39m.\u001b[39;49mlower()\n\u001b[0;32m    395\u001b[0m     \u001b[39mif\u001b[39;00m \u001b[39mnot\u001b[39;00m flags\u001b[39m.\u001b[39mno_cpython_wrapper:\n\u001b[0;32m    396\u001b[0m         lower\u001b[39m.\u001b[39mcreate_cpython_wrapper(flags\u001b[39m.\u001b[39mrelease_gil)\n",
      "File \u001b[1;32m~\\AppData\\Local\\Packages\\PythonSoftwareFoundation.Python.3.10_qbz5n2kfra8p0\\LocalCache\\local-packages\\Python310\\site-packages\\numba\\core\\lowering.py:168\u001b[0m, in \u001b[0;36mBaseLower.lower\u001b[1;34m(self)\u001b[0m\n\u001b[0;32m    166\u001b[0m \u001b[39mif\u001b[39;00m \u001b[39mself\u001b[39m\u001b[39m.\u001b[39mgenerator_info \u001b[39mis\u001b[39;00m \u001b[39mNone\u001b[39;00m:\n\u001b[0;32m    167\u001b[0m     \u001b[39mself\u001b[39m\u001b[39m.\u001b[39mgenlower \u001b[39m=\u001b[39m \u001b[39mNone\u001b[39;00m\n\u001b[1;32m--> 168\u001b[0m     \u001b[39mself\u001b[39;49m\u001b[39m.\u001b[39;49mlower_normal_function(\u001b[39mself\u001b[39;49m\u001b[39m.\u001b[39;49mfndesc)\n\u001b[0;32m    169\u001b[0m \u001b[39melse\u001b[39;00m:\n\u001b[0;32m    170\u001b[0m     \u001b[39mself\u001b[39m\u001b[39m.\u001b[39mgenlower \u001b[39m=\u001b[39m \u001b[39mself\u001b[39m\u001b[39m.\u001b[39mGeneratorLower(\u001b[39mself\u001b[39m)\n",
      "File \u001b[1;32m~\\AppData\\Local\\Packages\\PythonSoftwareFoundation.Python.3.10_qbz5n2kfra8p0\\LocalCache\\local-packages\\Python310\\site-packages\\numba\\core\\lowering.py:222\u001b[0m, in \u001b[0;36mBaseLower.lower_normal_function\u001b[1;34m(self, fndesc)\u001b[0m\n\u001b[0;32m    220\u001b[0m \u001b[39m# Init argument values\u001b[39;00m\n\u001b[0;32m    221\u001b[0m \u001b[39mself\u001b[39m\u001b[39m.\u001b[39mextract_function_arguments()\n\u001b[1;32m--> 222\u001b[0m entry_block_tail \u001b[39m=\u001b[39m \u001b[39mself\u001b[39;49m\u001b[39m.\u001b[39;49mlower_function_body()\n\u001b[0;32m    224\u001b[0m \u001b[39m# Close tail of entry block, do not emit debug metadata else the\u001b[39;00m\n\u001b[0;32m    225\u001b[0m \u001b[39m# unconditional jump gets associated with the metadata from the function\u001b[39;00m\n\u001b[0;32m    226\u001b[0m \u001b[39m# body end.\u001b[39;00m\n\u001b[0;32m    227\u001b[0m \u001b[39mwith\u001b[39;00m debuginfo\u001b[39m.\u001b[39msuspend_emission(\u001b[39mself\u001b[39m\u001b[39m.\u001b[39mbuilder):\n",
      "File \u001b[1;32m~\\AppData\\Local\\Packages\\PythonSoftwareFoundation.Python.3.10_qbz5n2kfra8p0\\LocalCache\\local-packages\\Python310\\site-packages\\numba\\core\\lowering.py:251\u001b[0m, in \u001b[0;36mBaseLower.lower_function_body\u001b[1;34m(self)\u001b[0m\n\u001b[0;32m    249\u001b[0m     bb \u001b[39m=\u001b[39m \u001b[39mself\u001b[39m\u001b[39m.\u001b[39mblkmap[offset]\n\u001b[0;32m    250\u001b[0m     \u001b[39mself\u001b[39m\u001b[39m.\u001b[39mbuilder\u001b[39m.\u001b[39mposition_at_end(bb)\n\u001b[1;32m--> 251\u001b[0m     \u001b[39mself\u001b[39;49m\u001b[39m.\u001b[39;49mlower_block(block)\n\u001b[0;32m    252\u001b[0m \u001b[39mself\u001b[39m\u001b[39m.\u001b[39mpost_lower()\n\u001b[0;32m    253\u001b[0m \u001b[39mreturn\u001b[39;00m entry_block_tail\n",
      "File \u001b[1;32m~\\AppData\\Local\\Packages\\PythonSoftwareFoundation.Python.3.10_qbz5n2kfra8p0\\LocalCache\\local-packages\\Python310\\site-packages\\numba\\core\\lowering.py:265\u001b[0m, in \u001b[0;36mBaseLower.lower_block\u001b[1;34m(self, block)\u001b[0m\n\u001b[0;32m    262\u001b[0m     defaulterrcls \u001b[39m=\u001b[39m partial(LoweringError, loc\u001b[39m=\u001b[39m\u001b[39mself\u001b[39m\u001b[39m.\u001b[39mloc)\n\u001b[0;32m    263\u001b[0m     \u001b[39mwith\u001b[39;00m new_error_context(\u001b[39m'\u001b[39m\u001b[39mlowering \u001b[39m\u001b[39m\"\u001b[39m\u001b[39m{inst}\u001b[39;00m\u001b[39m\"\u001b[39m\u001b[39m at \u001b[39m\u001b[39m{loc}\u001b[39;00m\u001b[39m'\u001b[39m, inst\u001b[39m=\u001b[39minst,\n\u001b[0;32m    264\u001b[0m                            loc\u001b[39m=\u001b[39m\u001b[39mself\u001b[39m\u001b[39m.\u001b[39mloc, errcls_\u001b[39m=\u001b[39mdefaulterrcls):\n\u001b[1;32m--> 265\u001b[0m         \u001b[39mself\u001b[39;49m\u001b[39m.\u001b[39;49mlower_inst(inst)\n\u001b[0;32m    266\u001b[0m \u001b[39mself\u001b[39m\u001b[39m.\u001b[39mpost_block(block)\n",
      "File \u001b[1;32m~\\AppData\\Local\\Packages\\PythonSoftwareFoundation.Python.3.10_qbz5n2kfra8p0\\LocalCache\\local-packages\\Python310\\site-packages\\numba\\core\\lowering.py:567\u001b[0m, in \u001b[0;36mLower.lower_inst\u001b[1;34m(self, inst)\u001b[0m\n\u001b[0;32m    565\u001b[0m     \u001b[39mfor\u001b[39;00m _class, func \u001b[39min\u001b[39;00m \u001b[39mself\u001b[39m\u001b[39m.\u001b[39mcontext\u001b[39m.\u001b[39mlower_extensions\u001b[39m.\u001b[39mitems():\n\u001b[0;32m    566\u001b[0m         \u001b[39mif\u001b[39;00m \u001b[39misinstance\u001b[39m(inst, _class):\n\u001b[1;32m--> 567\u001b[0m             func(\u001b[39mself\u001b[39;49m, inst)\n\u001b[0;32m    568\u001b[0m             \u001b[39mreturn\u001b[39;00m\n\u001b[0;32m    569\u001b[0m \u001b[39mraise\u001b[39;00m \u001b[39mNotImplementedError\u001b[39;00m(\u001b[39mtype\u001b[39m(inst))\n",
      "File \u001b[1;32m~\\AppData\\Local\\Packages\\PythonSoftwareFoundation.Python.3.10_qbz5n2kfra8p0\\LocalCache\\local-packages\\Python310\\site-packages\\numba\\parfors\\parfor_lowering.py:348\u001b[0m, in \u001b[0;36m_lower_parfor_parallel\u001b[1;34m(lowerer, parfor)\u001b[0m\n\u001b[0;32m    346\u001b[0m     \u001b[39mprint\u001b[39m(\u001b[39m\"\u001b[39m\u001b[39mloop_nests = \u001b[39m\u001b[39m\"\u001b[39m, parfor\u001b[39m.\u001b[39mloop_nests)\n\u001b[0;32m    347\u001b[0m     \u001b[39mprint\u001b[39m(\u001b[39m\"\u001b[39m\u001b[39mloop_ranges = \u001b[39m\u001b[39m\"\u001b[39m, loop_ranges)\n\u001b[1;32m--> 348\u001b[0m call_parallel_gufunc(\n\u001b[0;32m    349\u001b[0m     lowerer,\n\u001b[0;32m    350\u001b[0m     func,\n\u001b[0;32m    351\u001b[0m     gu_signature,\n\u001b[0;32m    352\u001b[0m     func_sig,\n\u001b[0;32m    353\u001b[0m     func_args,\n\u001b[0;32m    354\u001b[0m     func_arg_types,\n\u001b[0;32m    355\u001b[0m     loop_ranges,\n\u001b[0;32m    356\u001b[0m     parfor_redvars,\n\u001b[0;32m    357\u001b[0m     parfor_reddict,\n\u001b[0;32m    358\u001b[0m     redarrs,\n\u001b[0;32m    359\u001b[0m     parfor\u001b[39m.\u001b[39;49minit_block,\n\u001b[0;32m    360\u001b[0m     index_var_typ,\n\u001b[0;32m    361\u001b[0m     parfor\u001b[39m.\u001b[39;49mraces,\n\u001b[0;32m    362\u001b[0m     exp_name_to_tuple_var)\n\u001b[0;32m    364\u001b[0m \u001b[39mif\u001b[39;00m nredvars \u001b[39m>\u001b[39m \u001b[39m0\u001b[39m:\n\u001b[0;32m    365\u001b[0m     _parfor_lowering_finalize_reduction(\n\u001b[0;32m    366\u001b[0m         parfor, redarrs, lowerer, parfor_reddict, num_threads_var,\n\u001b[0;32m    367\u001b[0m     )\n",
      "File \u001b[1;32m~\\AppData\\Local\\Packages\\PythonSoftwareFoundation.Python.3.10_qbz5n2kfra8p0\\LocalCache\\local-packages\\Python310\\site-packages\\numba\\parfors\\parfor_lowering.py:1891\u001b[0m, in \u001b[0;36mcall_parallel_gufunc\u001b[1;34m(lowerer, cres, gu_signature, outer_sig, expr_args, expr_arg_types, loop_ranges, redvars, reddict, redarrdict, init_block, index_var_typ, races, exp_name_to_tuple_var)\u001b[0m\n\u001b[0;32m   1888\u001b[0m     stepsize \u001b[39m=\u001b[39m zero\n\u001b[0;32m   1890\u001b[0m     dst \u001b[39m=\u001b[39m builder\u001b[39m.\u001b[39mgep(steps, [context\u001b[39m.\u001b[39mget_constant(types\u001b[39m.\u001b[39mintp, \u001b[39m1\u001b[39m \u001b[39m+\u001b[39m i)])\n\u001b[1;32m-> 1891\u001b[0m     builder\u001b[39m.\u001b[39;49mstore(stepsize, dst)\n\u001b[0;32m   1892\u001b[0m \u001b[39mfor\u001b[39;00m j \u001b[39min\u001b[39;00m \u001b[39mrange\u001b[39m(\u001b[39mlen\u001b[39m(array_strides)):\n\u001b[0;32m   1893\u001b[0m     dst \u001b[39m=\u001b[39m builder\u001b[39m.\u001b[39mgep(\n\u001b[0;32m   1894\u001b[0m         steps, [\n\u001b[0;32m   1895\u001b[0m             context\u001b[39m.\u001b[39mget_constant(\n\u001b[0;32m   1896\u001b[0m                 types\u001b[39m.\u001b[39mintp, \u001b[39m1\u001b[39m \u001b[39m+\u001b[39m num_args \u001b[39m+\u001b[39m j)])\n",
      "File \u001b[1;32m~\\AppData\\Local\\Packages\\PythonSoftwareFoundation.Python.3.10_qbz5n2kfra8p0\\LocalCache\\local-packages\\Python310\\site-packages\\llvmlite\\ir\\builder.py:780\u001b[0m, in \u001b[0;36mIRBuilder.store\u001b[1;34m(self, value, ptr, align)\u001b[0m\n\u001b[0;32m    777\u001b[0m \u001b[39mif\u001b[39;00m ptr\u001b[39m.\u001b[39mtype\u001b[39m.\u001b[39mpointee \u001b[39m!=\u001b[39m value\u001b[39m.\u001b[39mtype:\n\u001b[0;32m    778\u001b[0m     \u001b[39mraise\u001b[39;00m \u001b[39mTypeError\u001b[39;00m(\u001b[39m\"\u001b[39m\u001b[39mcannot store \u001b[39m\u001b[39m%s\u001b[39;00m\u001b[39m to \u001b[39m\u001b[39m%s\u001b[39;00m\u001b[39m: mismatching types\u001b[39m\u001b[39m\"\u001b[39m\n\u001b[0;32m    779\u001b[0m                     \u001b[39m%\u001b[39m (value\u001b[39m.\u001b[39mtype, ptr\u001b[39m.\u001b[39mtype))\n\u001b[1;32m--> 780\u001b[0m st \u001b[39m=\u001b[39m instructions\u001b[39m.\u001b[39;49mStoreInstr(\u001b[39mself\u001b[39;49m\u001b[39m.\u001b[39;49mblock, value, ptr)\n\u001b[0;32m    781\u001b[0m st\u001b[39m.\u001b[39malign \u001b[39m=\u001b[39m align\n\u001b[0;32m    782\u001b[0m \u001b[39mself\u001b[39m\u001b[39m.\u001b[39m_insert(st)\n",
      "File \u001b[1;32m~\\AppData\\Local\\Packages\\PythonSoftwareFoundation.Python.3.10_qbz5n2kfra8p0\\LocalCache\\local-packages\\Python310\\site-packages\\llvmlite\\ir\\instructions.py:432\u001b[0m, in \u001b[0;36mStoreInstr.__init__\u001b[1;34m(self, parent, val, ptr)\u001b[0m\n\u001b[0;32m    431\u001b[0m \u001b[39mdef\u001b[39;00m \u001b[39m__init__\u001b[39m(\u001b[39mself\u001b[39m, parent, val, ptr):\n\u001b[1;32m--> 432\u001b[0m     \u001b[39msuper\u001b[39;49m(StoreInstr, \u001b[39mself\u001b[39;49m)\u001b[39m.\u001b[39;49m\u001b[39m__init__\u001b[39;49m(parent, types\u001b[39m.\u001b[39;49mVoidType(), \u001b[39m\"\u001b[39;49m\u001b[39mstore\u001b[39;49m\u001b[39m\"\u001b[39;49m,\n\u001b[0;32m    433\u001b[0m                                      [val, ptr])\n",
      "File \u001b[1;32m~\\AppData\\Local\\Packages\\PythonSoftwareFoundation.Python.3.10_qbz5n2kfra8p0\\LocalCache\\local-packages\\Python310\\site-packages\\llvmlite\\ir\\instructions.py:14\u001b[0m, in \u001b[0;36mInstruction.__init__\u001b[1;34m(self, parent, typ, opname, operands, name, flags)\u001b[0m\n\u001b[0;32m     13\u001b[0m \u001b[39mdef\u001b[39;00m \u001b[39m__init__\u001b[39m(\u001b[39mself\u001b[39m, parent, typ, opname, operands, name\u001b[39m=\u001b[39m\u001b[39m'\u001b[39m\u001b[39m'\u001b[39m, flags\u001b[39m=\u001b[39m()):\n\u001b[1;32m---> 14\u001b[0m     \u001b[39msuper\u001b[39;49m(Instruction, \u001b[39mself\u001b[39;49m)\u001b[39m.\u001b[39;49m\u001b[39m__init__\u001b[39;49m(parent, typ, name\u001b[39m=\u001b[39;49mname)\n\u001b[0;32m     15\u001b[0m     \u001b[39massert\u001b[39;00m \u001b[39misinstance\u001b[39m(parent, Block)\n\u001b[0;32m     16\u001b[0m     \u001b[39massert\u001b[39;00m \u001b[39misinstance\u001b[39m(flags, (\u001b[39mtuple\u001b[39m, \u001b[39mlist\u001b[39m))\n",
      "File \u001b[1;32m~\\AppData\\Local\\Packages\\PythonSoftwareFoundation.Python.3.10_qbz5n2kfra8p0\\LocalCache\\local-packages\\Python310\\site-packages\\llvmlite\\ir\\values.py:538\u001b[0m, in \u001b[0;36mNamedValue.__init__\u001b[1;34m(self, parent, type, name)\u001b[0m\n\u001b[0;32m    537\u001b[0m \u001b[39mdef\u001b[39;00m \u001b[39m__init__\u001b[39m(\u001b[39mself\u001b[39m, parent, \u001b[39mtype\u001b[39m, name):\n\u001b[1;32m--> 538\u001b[0m     \u001b[39massert\u001b[39;00m parent \u001b[39mis\u001b[39;49;00m \u001b[39mnot\u001b[39;49;00m \u001b[39mNone\u001b[39;49;00m\n\u001b[0;32m    539\u001b[0m     \u001b[39massert\u001b[39;00m \u001b[39misinstance\u001b[39m(\u001b[39mtype\u001b[39m, types\u001b[39m.\u001b[39mType)\n\u001b[0;32m    540\u001b[0m     \u001b[39mself\u001b[39m\u001b[39m.\u001b[39mparent \u001b[39m=\u001b[39m parent\n",
      "\u001b[1;31mKeyboardInterrupt\u001b[0m: "
     ]
    }
   ],
   "source": [
    "columns_to_umap = ['@', '?','-','=','.','#','%','+','$','!','*',',','//']\n",
    "\n",
    "# create a UMAP object with desired parameters\n",
    "umap_obj = umap.UMAP(n_neighbors=15, min_dist=0.1, n_components=2)\n",
    "\n",
    "# fit and transform the selected columns using UMAP\n",
    "umap_values = umap_obj.fit_transform(df[columns_to_umap])\n",
    "\n",
    "with open('umap_model.pkl', 'wb') as f:\n",
    "    pickle.dump(umap_obj, f)\n",
    "\n",
    "# add the new column to the DataFrame\n",
    "df['umap_values1'] = umap_values[:, 0]\n",
    "df['umap_values2'] = umap_values[:, 1]\n"
   ]
  },
  {
   "cell_type": "code",
   "execution_count": 14,
   "metadata": {},
   "outputs": [
    {
     "name": "stderr",
     "output_type": "stream",
     "text": [
      " 14%|█▍        | 14/100 [03:10<17:55, 12.50s/it]C:\\Users\\tnish\\AppData\\Local\\Packages\\PythonSoftwareFoundation.Python.3.10_qbz5n2kfra8p0\\LocalCache\\local-packages\\Python310\\site-packages\\sklearn\\manifold\\_spectral_embedding.py:274: UserWarning: Graph is not fully connected, spectral embedding may not work as expected.\n",
      "  warnings.warn(\n",
      " 25%|██▌       | 25/100 [05:31<16:37, 13.30s/it]C:\\Users\\tnish\\AppData\\Local\\Packages\\PythonSoftwareFoundation.Python.3.10_qbz5n2kfra8p0\\LocalCache\\local-packages\\Python310\\site-packages\\sklearn\\manifold\\_spectral_embedding.py:274: UserWarning: Graph is not fully connected, spectral embedding may not work as expected.\n",
      "  warnings.warn(\n",
      " 27%|██▋       | 27/100 [05:57<16:01, 13.17s/it]C:\\Users\\tnish\\AppData\\Local\\Packages\\PythonSoftwareFoundation.Python.3.10_qbz5n2kfra8p0\\LocalCache\\local-packages\\Python310\\site-packages\\sklearn\\manifold\\_spectral_embedding.py:274: UserWarning: Graph is not fully connected, spectral embedding may not work as expected.\n",
      "  warnings.warn(\n",
      " 40%|████      | 40/100 [08:44<12:46, 12.77s/it]C:\\Users\\tnish\\AppData\\Local\\Packages\\PythonSoftwareFoundation.Python.3.10_qbz5n2kfra8p0\\LocalCache\\local-packages\\Python310\\site-packages\\sklearn\\manifold\\_spectral_embedding.py:274: UserWarning: Graph is not fully connected, spectral embedding may not work as expected.\n",
      "  warnings.warn(\n",
      " 48%|████▊     | 48/100 [10:27<11:02, 12.74s/it]C:\\Users\\tnish\\AppData\\Local\\Packages\\PythonSoftwareFoundation.Python.3.10_qbz5n2kfra8p0\\LocalCache\\local-packages\\Python310\\site-packages\\sklearn\\manifold\\_spectral_embedding.py:274: UserWarning: Graph is not fully connected, spectral embedding may not work as expected.\n",
      "  warnings.warn(\n",
      " 53%|█████▎    | 53/100 [11:31<09:57, 12.71s/it]C:\\Users\\tnish\\AppData\\Local\\Packages\\PythonSoftwareFoundation.Python.3.10_qbz5n2kfra8p0\\LocalCache\\local-packages\\Python310\\site-packages\\sklearn\\manifold\\_spectral_embedding.py:274: UserWarning: Graph is not fully connected, spectral embedding may not work as expected.\n",
      "  warnings.warn(\n",
      " 57%|█████▋    | 57/100 [12:23<09:18, 13.00s/it]C:\\Users\\tnish\\AppData\\Local\\Packages\\PythonSoftwareFoundation.Python.3.10_qbz5n2kfra8p0\\LocalCache\\local-packages\\Python310\\site-packages\\sklearn\\manifold\\_spectral_embedding.py:274: UserWarning: Graph is not fully connected, spectral embedding may not work as expected.\n",
      "  warnings.warn(\n",
      " 65%|██████▌   | 65/100 [14:05<07:24, 12.71s/it]C:\\Users\\tnish\\AppData\\Local\\Packages\\PythonSoftwareFoundation.Python.3.10_qbz5n2kfra8p0\\LocalCache\\local-packages\\Python310\\site-packages\\sklearn\\manifold\\_spectral_embedding.py:274: UserWarning: Graph is not fully connected, spectral embedding may not work as expected.\n",
      "  warnings.warn(\n",
      "100%|██████████| 100/100 [21:27<00:00, 12.88s/it]\n",
      "C:\\Users\\tnish\\AppData\\Local\\Packages\\PythonSoftwareFoundation.Python.3.10_qbz5n2kfra8p0\\LocalCache\\local-packages\\Python310\\site-packages\\scipy\\sparse\\_index.py:146: SparseEfficiencyWarning: Changing the sparsity structure of a csr_matrix is expensive. lil_matrix is more efficient.\n",
      "  self._set_arrayXarray(i, j, x)\n"
     ]
    }
   ],
   "source": [
    "columns_to_umap = ['@', '?','-','=','.','#','%','+','$','!','*',',','//']\n",
    "# create a UMAP object with desired parameters\n",
    "umap_obj = umap.UMAP(n_neighbors=15, min_dist=0.1, n_components=2)\n",
    "\n",
    "# fit and transform the selected columns using UMAP with a progress bar\n",
    "umap_values = []\n",
    "for batch in tqdm(np.array_split(df[columns_to_umap].values, 100)):\n",
    "    umap_values.append(umap_obj.fit_transform(batch))\n",
    "umap_values = np.vstack(umap_values)\n",
    "\n",
    "# save the trained UMAP object to a file using joblib\n",
    "with open('umap_model1.pkl', 'wb') as f:\n",
    "    pickle.dump(umap_obj, f)\n",
    "\n",
    "# add the new columns to the DataFrame\n",
    "df['umap_values1'] = umap_values[:, 0]\n",
    "df['umap_values2'] = umap_values[:, 1]\n"
   ]
  }
 ],
 "metadata": {
  "kernelspec": {
   "display_name": "Python 3",
   "language": "python",
   "name": "python3"
  },
  "language_info": {
   "codemirror_mode": {
    "name": "ipython",
    "version": 3
   },
   "file_extension": ".py",
   "mimetype": "text/x-python",
   "name": "python",
   "nbconvert_exporter": "python",
   "pygments_lexer": "ipython3",
   "version": "3.10.11"
  },
  "orig_nbformat": 4
 },
 "nbformat": 4,
 "nbformat_minor": 2
}
